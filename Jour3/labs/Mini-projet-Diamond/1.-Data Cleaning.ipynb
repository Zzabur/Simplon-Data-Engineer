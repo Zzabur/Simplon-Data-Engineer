{
 "cells": [
  {
   "cell_type": "markdown",
   "metadata": {},
   "source": [
    "# Descriptive Statistics Review"
   ]
  },
  {
   "cell_type": "markdown",
   "metadata": {},
   "source": [
    "## Before you start:\n",
    "\n",
    "- Read the README.md file\n",
    "- Comment as much as you can\n",
    "- Happy learning!"
   ]
  },
  {
   "cell_type": "markdown",
   "metadata": {},
   "source": [
    "## Context"
   ]
  },
  {
   "cell_type": "markdown",
   "metadata": {},
   "source": [
    "![img](./diamonds.jpg)"
   ]
  },
  {
   "cell_type": "markdown",
   "metadata": {},
   "source": [
    "In this lab we are going to work with data to understand the characteristics of a diamond that are most likely to influence its price. In this first part of the lab, we will explore and clean our data. \n",
    "\n",
    "The dataset we will be using is comprised of approximately 54k rows and 11 different columns. As always, a row represents a single observation (in this case a diamond) and each of the columns represent a different feature of a diamond.\n",
    "\n",
    "The following codebook was provided together with the dataset to clarify what each column represents:\n"
   ]
  },
  {
   "cell_type": "markdown",
   "metadata": {},
   "source": [
    "| Column  | Description  |\n",
    "|---|---|\n",
    "| Price  | Price in US dollars (326-18,823)  |\n",
    "| Carat  | Weight of the diamond (0.2--5.01)  |\n",
    "| Cut  | Quality of the cut (Fair, Good, Very Good, Premium, Ideal)  |\n",
    "| Color  | Diamond colour, from J (worst) to D (best)  |\n",
    "| Clarity  | A measurement of how clear the diamond is (I1 (worst), SI2, SI1, VS2, VS1, VVS2, VVS1, IF (best))   |\n",
    "| x  | Length in mm (0--10.74)  |\n",
    "| y  | Width in mm (0--58.9)  |\n",
    "| z  | Depth in mm (0--31.8)  |\n",
    "| Depth  | Total depth percentage = z / mean(x, y) = 2 * z / (x + y) (43--79)  |\n",
    "| Table  | Width of top of diamond relative to widest point (43--95)  |"
   ]
  },
  {
   "cell_type": "markdown",
   "metadata": {},
   "source": [
    "## Libraries\n",
    "Pandas and numpy will be needed for the analysis of the data. Don't worry about the seaborn and matplotlib import at the moment, you will learn more about them next week, but we will be using some of their functionalities."
   ]
  },
  {
   "cell_type": "code",
   "execution_count": 14,
   "metadata": {},
   "outputs": [],
   "source": [
    "import pandas as pd\n",
    "import numpy as np\n",
    "import seaborn as sns\n",
    "import matplotlib.pyplot as plt"
   ]
  },
  {
   "cell_type": "markdown",
   "metadata": {},
   "source": [
    "First import the data from the .csv file provided and assign it to a variable named `diamonds` and drop the column with the index."
   ]
  },
  {
   "cell_type": "code",
   "execution_count": 22,
   "metadata": {},
   "outputs": [
    {
     "data": {
      "text/html": [
       "<div>\n",
       "<style scoped>\n",
       "    .dataframe tbody tr th:only-of-type {\n",
       "        vertical-align: middle;\n",
       "    }\n",
       "\n",
       "    .dataframe tbody tr th {\n",
       "        vertical-align: top;\n",
       "    }\n",
       "\n",
       "    .dataframe thead th {\n",
       "        text-align: right;\n",
       "    }\n",
       "</style>\n",
       "<table border=\"1\" class=\"dataframe\">\n",
       "  <thead>\n",
       "    <tr style=\"text-align: right;\">\n",
       "      <th></th>\n",
       "      <th>carat</th>\n",
       "      <th>cut</th>\n",
       "      <th>color</th>\n",
       "      <th>clarity</th>\n",
       "      <th>depth</th>\n",
       "      <th>table</th>\n",
       "      <th>price</th>\n",
       "      <th>x</th>\n",
       "      <th>y</th>\n",
       "      <th>z</th>\n",
       "    </tr>\n",
       "  </thead>\n",
       "  <tbody>\n",
       "    <tr>\n",
       "      <th>1</th>\n",
       "      <td>0.23</td>\n",
       "      <td>Ideal</td>\n",
       "      <td>E</td>\n",
       "      <td>SI2</td>\n",
       "      <td>61.5</td>\n",
       "      <td>55.0</td>\n",
       "      <td>326</td>\n",
       "      <td>3.95</td>\n",
       "      <td>3.98</td>\n",
       "      <td>2.43</td>\n",
       "    </tr>\n",
       "    <tr>\n",
       "      <th>2</th>\n",
       "      <td>0.21</td>\n",
       "      <td>Premium</td>\n",
       "      <td>E</td>\n",
       "      <td>SI1</td>\n",
       "      <td>59.8</td>\n",
       "      <td>61.0</td>\n",
       "      <td>326</td>\n",
       "      <td>3.89</td>\n",
       "      <td>3.84</td>\n",
       "      <td>2.31</td>\n",
       "    </tr>\n",
       "    <tr>\n",
       "      <th>3</th>\n",
       "      <td>0.23</td>\n",
       "      <td>Good</td>\n",
       "      <td>E</td>\n",
       "      <td>VS1</td>\n",
       "      <td>56.9</td>\n",
       "      <td>65.0</td>\n",
       "      <td>327</td>\n",
       "      <td>4.05</td>\n",
       "      <td>4.07</td>\n",
       "      <td>2.31</td>\n",
       "    </tr>\n",
       "    <tr>\n",
       "      <th>4</th>\n",
       "      <td>0.29</td>\n",
       "      <td>Premium</td>\n",
       "      <td>I</td>\n",
       "      <td>VS2</td>\n",
       "      <td>62.4</td>\n",
       "      <td>58.0</td>\n",
       "      <td>334</td>\n",
       "      <td>4.20</td>\n",
       "      <td>4.23</td>\n",
       "      <td>2.63</td>\n",
       "    </tr>\n",
       "    <tr>\n",
       "      <th>5</th>\n",
       "      <td>0.31</td>\n",
       "      <td>Good</td>\n",
       "      <td>J</td>\n",
       "      <td>SI2</td>\n",
       "      <td>63.3</td>\n",
       "      <td>58.0</td>\n",
       "      <td>335</td>\n",
       "      <td>4.34</td>\n",
       "      <td>4.35</td>\n",
       "      <td>2.75</td>\n",
       "    </tr>\n",
       "  </tbody>\n",
       "</table>\n",
       "</div>"
      ],
      "text/plain": [
       "   carat      cut color clarity  depth  table  price     x     y     z\n",
       "1   0.23    Ideal     E     SI2   61.5   55.0    326  3.95  3.98  2.43\n",
       "2   0.21  Premium     E     SI1   59.8   61.0    326  3.89  3.84  2.31\n",
       "3   0.23     Good     E     VS1   56.9   65.0    327  4.05  4.07  2.31\n",
       "4   0.29  Premium     I     VS2   62.4   58.0    334  4.20  4.23  2.63\n",
       "5   0.31     Good     J     SI2   63.3   58.0    335  4.34  4.35  2.75"
      ]
     },
     "execution_count": 22,
     "metadata": {},
     "output_type": "execute_result"
    }
   ],
   "source": [
    "#your code here\n",
    "diamonds = pd.read_csv(\"diamonds.csv\", index_col=0)\n",
    "diamonds.head(5)"
   ]
  },
  {
   "cell_type": "markdown",
   "metadata": {},
   "source": [
    "# 1. Taking the first look at the data.\n",
    "Let's see how the data looks by using pandas methods like `head()`, `info()` and `describe()`. \n",
    "\n",
    "**First, use the `head` method.**"
   ]
  },
  {
   "cell_type": "code",
   "execution_count": 37,
   "metadata": {},
   "outputs": [
    {
     "data": {
      "text/plain": [
       "<bound method NDFrame.head of        carat        cut color clarity  depth  table  price     x     y     z  \\\n",
       "1       0.23      Ideal     E     SI2   61.5   55.0    326  3.95  3.98  2.43   \n",
       "2       0.21    Premium     E     SI1   59.8   61.0    326  3.89  3.84  2.31   \n",
       "3       0.23       Good     E     VS1   56.9   65.0    327  4.05  4.07  2.31   \n",
       "4       0.29    Premium     I     VS2   62.4   58.0    334  4.20  4.23  2.63   \n",
       "5       0.31       Good     J     SI2   63.3   58.0    335  4.34  4.35  2.75   \n",
       "...      ...        ...   ...     ...    ...    ...    ...   ...   ...   ...   \n",
       "53936   0.72      Ideal     D     SI1   60.8   57.0   2757  5.75  5.76  3.50   \n",
       "53937   0.72       Good     D     SI1   63.1   55.0   2757  5.69  5.75  3.61   \n",
       "53938   0.70  Very Good     D     SI1   62.8   60.0   2757  5.66  5.68  3.56   \n",
       "53939   0.86    Premium     H     SI2   61.0   58.0   2757  6.15  6.12  3.74   \n",
       "53940   0.75      Ideal     D     SI2   62.2   55.0   2757  5.83  5.87  3.64   \n",
       "\n",
       "       clarity_numeric  color_numeric  \n",
       "1                    1              5  \n",
       "2                    2              5  \n",
       "3                    4              5  \n",
       "4                    3              1  \n",
       "5                    1              0  \n",
       "...                ...            ...  \n",
       "53936                2              6  \n",
       "53937                2              6  \n",
       "53938                2              6  \n",
       "53939                1              2  \n",
       "53940                1              6  \n",
       "\n",
       "[53940 rows x 12 columns]>"
      ]
     },
     "execution_count": 37,
     "metadata": {},
     "output_type": "execute_result"
    }
   ],
   "source": [
    "#your code here\n",
    "diamonds.head"
   ]
  },
  {
   "cell_type": "markdown",
   "metadata": {},
   "source": [
    "We can see the first 5 rows of the dataset using the `head` method. This by itself doesn't tell us much about the data that we have, but we can have a first look at the features (columns) and some of the values that each one takes.\n",
    "\n",
    "**What do you see? Make some comments about the values you see in each column, comparing them with the codebook. Is that what you would expect for these variables?**"
   ]
  },
  {
   "cell_type": "code",
   "execution_count": null,
   "metadata": {},
   "outputs": [],
   "source": [
    "#your code here\n",
    "# some are str, some are float"
   ]
  },
  {
   "cell_type": "markdown",
   "metadata": {},
   "source": [
    "It is very important to know the amount of data we have, because everything will depend on that, from the quality of the analysis to the choice of our infrastracture.\n",
    "\n",
    "**Check the shape of the data**"
   ]
  },
  {
   "cell_type": "code",
   "execution_count": 27,
   "metadata": {},
   "outputs": [
    {
     "data": {
      "text/plain": [
       "(53940, 10)"
      ]
     },
     "execution_count": 27,
     "metadata": {},
     "output_type": "execute_result"
    }
   ],
   "source": [
    "#your code here\n",
    "diamonds.shape"
   ]
  },
  {
   "cell_type": "markdown",
   "metadata": {},
   "source": [
    "The `clarity` column is confusing because we are not diamond experts. Let's create a new column with a new scale that is more understandable for us.\n",
    "\n",
    "**Create a new column with numbers from 0 to 7. The lowest would be 0 with value `I1` and the greatest 7 with value `IF`**"
   ]
  },
  {
   "cell_type": "code",
   "execution_count": null,
   "metadata": {},
   "outputs": [
    {
     "name": "stdout",
     "output_type": "stream",
     "text": [
      "  clarity  clarity_numeric\n",
      "1     SI2                1\n",
      "2     SI1                2\n",
      "3     VS1                4\n",
      "4     VS2                3\n",
      "5     SI2                1\n"
     ]
    }
   ],
   "source": [
    "# Clarity -> Measurement of Transparency(how clear the Diamond is) Sequence of clarity ( I1 (worst quality), SI2, SI1, VS2, VS1, VVS2, VVS1, IF(best quality) ).\n",
    "\n",
    "\n",
    "\n",
    "\n",
    "# Définir l'ordre de clarté du pire au meilleur\n",
    "label_clarity = {\"I1\":0, \"SI2\":1, \"SI1\":2, \"VS2\":3, \"VS1\":4, \"VVS2\":5, \"VVS1\":6, \"IF\":7}\n",
    "\n",
    "# Créer une nouvelle colonne avec le score numérique\n",
    "diamonds['clarity_numeric'] = diamonds['clarity'].map(label_clarity)\n",
    "\n",
    "# Vérifier le résultat\n",
    "print(diamonds[['clarity', 'clarity_numeric']].head())\n"
   ]
  },
  {
   "cell_type": "markdown",
   "metadata": {},
   "source": [
    "It makes sense to do the same with the `color` column.\n",
    "\n",
    "**Do the same with values from 0 to 6. Read the codebook to see the match**"
   ]
  },
  {
   "cell_type": "code",
   "execution_count": 33,
   "metadata": {},
   "outputs": [
    {
     "name": "stdout",
     "output_type": "stream",
     "text": [
      "  color  color_numeric\n",
      "1     E              5\n",
      "2     E              5\n",
      "3     E              5\n",
      "4     I              1\n",
      "5     J              0\n"
     ]
    },
    {
     "data": {
      "text/html": [
       "<div>\n",
       "<style scoped>\n",
       "    .dataframe tbody tr th:only-of-type {\n",
       "        vertical-align: middle;\n",
       "    }\n",
       "\n",
       "    .dataframe tbody tr th {\n",
       "        vertical-align: top;\n",
       "    }\n",
       "\n",
       "    .dataframe thead th {\n",
       "        text-align: right;\n",
       "    }\n",
       "</style>\n",
       "<table border=\"1\" class=\"dataframe\">\n",
       "  <thead>\n",
       "    <tr style=\"text-align: right;\">\n",
       "      <th></th>\n",
       "      <th>carat</th>\n",
       "      <th>cut</th>\n",
       "      <th>color</th>\n",
       "      <th>clarity</th>\n",
       "      <th>depth</th>\n",
       "      <th>table</th>\n",
       "      <th>price</th>\n",
       "      <th>x</th>\n",
       "      <th>y</th>\n",
       "      <th>z</th>\n",
       "      <th>clarity_numeric</th>\n",
       "      <th>color_numeric</th>\n",
       "    </tr>\n",
       "  </thead>\n",
       "  <tbody>\n",
       "    <tr>\n",
       "      <th>1</th>\n",
       "      <td>0.23</td>\n",
       "      <td>Ideal</td>\n",
       "      <td>E</td>\n",
       "      <td>SI2</td>\n",
       "      <td>61.5</td>\n",
       "      <td>55.0</td>\n",
       "      <td>326</td>\n",
       "      <td>3.95</td>\n",
       "      <td>3.98</td>\n",
       "      <td>2.43</td>\n",
       "      <td>1</td>\n",
       "      <td>5</td>\n",
       "    </tr>\n",
       "    <tr>\n",
       "      <th>2</th>\n",
       "      <td>0.21</td>\n",
       "      <td>Premium</td>\n",
       "      <td>E</td>\n",
       "      <td>SI1</td>\n",
       "      <td>59.8</td>\n",
       "      <td>61.0</td>\n",
       "      <td>326</td>\n",
       "      <td>3.89</td>\n",
       "      <td>3.84</td>\n",
       "      <td>2.31</td>\n",
       "      <td>2</td>\n",
       "      <td>5</td>\n",
       "    </tr>\n",
       "    <tr>\n",
       "      <th>3</th>\n",
       "      <td>0.23</td>\n",
       "      <td>Good</td>\n",
       "      <td>E</td>\n",
       "      <td>VS1</td>\n",
       "      <td>56.9</td>\n",
       "      <td>65.0</td>\n",
       "      <td>327</td>\n",
       "      <td>4.05</td>\n",
       "      <td>4.07</td>\n",
       "      <td>2.31</td>\n",
       "      <td>4</td>\n",
       "      <td>5</td>\n",
       "    </tr>\n",
       "    <tr>\n",
       "      <th>4</th>\n",
       "      <td>0.29</td>\n",
       "      <td>Premium</td>\n",
       "      <td>I</td>\n",
       "      <td>VS2</td>\n",
       "      <td>62.4</td>\n",
       "      <td>58.0</td>\n",
       "      <td>334</td>\n",
       "      <td>4.20</td>\n",
       "      <td>4.23</td>\n",
       "      <td>2.63</td>\n",
       "      <td>3</td>\n",
       "      <td>1</td>\n",
       "    </tr>\n",
       "    <tr>\n",
       "      <th>5</th>\n",
       "      <td>0.31</td>\n",
       "      <td>Good</td>\n",
       "      <td>J</td>\n",
       "      <td>SI2</td>\n",
       "      <td>63.3</td>\n",
       "      <td>58.0</td>\n",
       "      <td>335</td>\n",
       "      <td>4.34</td>\n",
       "      <td>4.35</td>\n",
       "      <td>2.75</td>\n",
       "      <td>1</td>\n",
       "      <td>0</td>\n",
       "    </tr>\n",
       "    <tr>\n",
       "      <th>6</th>\n",
       "      <td>0.24</td>\n",
       "      <td>Very Good</td>\n",
       "      <td>J</td>\n",
       "      <td>VVS2</td>\n",
       "      <td>62.8</td>\n",
       "      <td>57.0</td>\n",
       "      <td>336</td>\n",
       "      <td>3.94</td>\n",
       "      <td>3.96</td>\n",
       "      <td>2.48</td>\n",
       "      <td>5</td>\n",
       "      <td>0</td>\n",
       "    </tr>\n",
       "    <tr>\n",
       "      <th>7</th>\n",
       "      <td>0.24</td>\n",
       "      <td>Very Good</td>\n",
       "      <td>I</td>\n",
       "      <td>VVS1</td>\n",
       "      <td>62.3</td>\n",
       "      <td>57.0</td>\n",
       "      <td>336</td>\n",
       "      <td>3.95</td>\n",
       "      <td>3.98</td>\n",
       "      <td>2.47</td>\n",
       "      <td>6</td>\n",
       "      <td>1</td>\n",
       "    </tr>\n",
       "    <tr>\n",
       "      <th>8</th>\n",
       "      <td>0.26</td>\n",
       "      <td>Very Good</td>\n",
       "      <td>H</td>\n",
       "      <td>SI1</td>\n",
       "      <td>61.9</td>\n",
       "      <td>55.0</td>\n",
       "      <td>337</td>\n",
       "      <td>4.07</td>\n",
       "      <td>4.11</td>\n",
       "      <td>2.53</td>\n",
       "      <td>2</td>\n",
       "      <td>2</td>\n",
       "    </tr>\n",
       "    <tr>\n",
       "      <th>9</th>\n",
       "      <td>0.22</td>\n",
       "      <td>Fair</td>\n",
       "      <td>E</td>\n",
       "      <td>VS2</td>\n",
       "      <td>65.1</td>\n",
       "      <td>61.0</td>\n",
       "      <td>337</td>\n",
       "      <td>3.87</td>\n",
       "      <td>3.78</td>\n",
       "      <td>2.49</td>\n",
       "      <td>3</td>\n",
       "      <td>5</td>\n",
       "    </tr>\n",
       "    <tr>\n",
       "      <th>10</th>\n",
       "      <td>0.23</td>\n",
       "      <td>Very Good</td>\n",
       "      <td>H</td>\n",
       "      <td>VS1</td>\n",
       "      <td>59.4</td>\n",
       "      <td>61.0</td>\n",
       "      <td>338</td>\n",
       "      <td>4.00</td>\n",
       "      <td>4.05</td>\n",
       "      <td>2.39</td>\n",
       "      <td>4</td>\n",
       "      <td>2</td>\n",
       "    </tr>\n",
       "  </tbody>\n",
       "</table>\n",
       "</div>"
      ],
      "text/plain": [
       "    carat        cut color clarity  depth  table  price     x     y     z  \\\n",
       "1    0.23      Ideal     E     SI2   61.5   55.0    326  3.95  3.98  2.43   \n",
       "2    0.21    Premium     E     SI1   59.8   61.0    326  3.89  3.84  2.31   \n",
       "3    0.23       Good     E     VS1   56.9   65.0    327  4.05  4.07  2.31   \n",
       "4    0.29    Premium     I     VS2   62.4   58.0    334  4.20  4.23  2.63   \n",
       "5    0.31       Good     J     SI2   63.3   58.0    335  4.34  4.35  2.75   \n",
       "6    0.24  Very Good     J    VVS2   62.8   57.0    336  3.94  3.96  2.48   \n",
       "7    0.24  Very Good     I    VVS1   62.3   57.0    336  3.95  3.98  2.47   \n",
       "8    0.26  Very Good     H     SI1   61.9   55.0    337  4.07  4.11  2.53   \n",
       "9    0.22       Fair     E     VS2   65.1   61.0    337  3.87  3.78  2.49   \n",
       "10   0.23  Very Good     H     VS1   59.4   61.0    338  4.00  4.05  2.39   \n",
       "\n",
       "    clarity_numeric  color_numeric  \n",
       "1                 1              5  \n",
       "2                 2              5  \n",
       "3                 4              5  \n",
       "4                 3              1  \n",
       "5                 1              0  \n",
       "6                 5              0  \n",
       "7                 6              1  \n",
       "8                 2              2  \n",
       "9                 3              5  \n",
       "10                4              2  "
      ]
     },
     "execution_count": 33,
     "metadata": {},
     "output_type": "execute_result"
    }
   ],
   "source": [
    "# Définir l'ordre de couleur du pire au meilleur\n",
    "label_color = {\"J\":0, \"I\":1, \"H\":2, \"G\":3, \"F\":4, \"E\":5, \"D\":6}\n",
    "\n",
    "# Créer une nouvelle colonne avec le score numérique\n",
    "diamonds['color_numeric'] = diamonds['color'].map(label_color)\n",
    "\n",
    "# Vérifier le résultat\n",
    "print(diamonds[['color', 'color_numeric']].head())\n",
    "diamonds.head(10)"
   ]
  },
  {
   "cell_type": "markdown",
   "metadata": {},
   "source": [
    "With the `info` method, we can see the features of the dataset, and the amount of observations (rows) that have a non-null value and the types of the features. \n",
    "\n",
    "**Now use the `info` method and comparing with the shape, comment on what you see**"
   ]
  },
  {
   "cell_type": "code",
   "execution_count": 38,
   "metadata": {},
   "outputs": [
    {
     "name": "stdout",
     "output_type": "stream",
     "text": [
      "<class 'pandas.core.frame.DataFrame'>\n",
      "Index: 53940 entries, 1 to 53940\n",
      "Data columns (total 12 columns):\n",
      " #   Column           Non-Null Count  Dtype  \n",
      "---  ------           --------------  -----  \n",
      " 0   carat            53940 non-null  float64\n",
      " 1   cut              53940 non-null  object \n",
      " 2   color            53940 non-null  object \n",
      " 3   clarity          53940 non-null  object \n",
      " 4   depth            53940 non-null  float64\n",
      " 5   table            53940 non-null  float64\n",
      " 6   price            53940 non-null  int64  \n",
      " 7   x                53940 non-null  float64\n",
      " 8   y                53940 non-null  float64\n",
      " 9   z                53940 non-null  float64\n",
      " 10  clarity_numeric  53940 non-null  int64  \n",
      " 11  color_numeric    53940 non-null  int64  \n",
      "dtypes: float64(6), int64(3), object(3)\n",
      "memory usage: 5.3+ MB\n"
     ]
    }
   ],
   "source": [
    "diamonds.info()"
   ]
  },
  {
   "cell_type": "markdown",
   "metadata": {},
   "source": [
    "In the last line of the info output, you have some information about the types of the columns. As you know, it is a good idea to check if the types of each column is what you expect. If a column has the right type, we will be able to do all the operations that we want to do. \n",
    "\n",
    "For instance, if we have a column that is a `date` with a `string` format, we will have the data but we won't be able to do a simple operation, such as format the date the way that we would like.\n",
    "\n",
    "Changing the data type to the one we needs can help us to solve a lot of problems in our data.\n",
    "\n",
    "**Check the types of each column and comment if it matches with the expected**"
   ]
  },
  {
   "cell_type": "code",
   "execution_count": 15,
   "metadata": {},
   "outputs": [],
   "source": [
    "#your code here"
   ]
  },
  {
   "cell_type": "markdown",
   "metadata": {},
   "source": [
    "# 2. A deeper look: checking the basic statistics.\n",
    "\n",
    "The `describe` method gives us an overview of our data. From here we can see all the descriptive metrics for our variables.\n",
    "\n",
    "**Use the `describe` method and comment on what you see**"
   ]
  },
  {
   "cell_type": "code",
   "execution_count": 39,
   "metadata": {},
   "outputs": [
    {
     "data": {
      "text/html": [
       "<div>\n",
       "<style scoped>\n",
       "    .dataframe tbody tr th:only-of-type {\n",
       "        vertical-align: middle;\n",
       "    }\n",
       "\n",
       "    .dataframe tbody tr th {\n",
       "        vertical-align: top;\n",
       "    }\n",
       "\n",
       "    .dataframe thead th {\n",
       "        text-align: right;\n",
       "    }\n",
       "</style>\n",
       "<table border=\"1\" class=\"dataframe\">\n",
       "  <thead>\n",
       "    <tr style=\"text-align: right;\">\n",
       "      <th></th>\n",
       "      <th>carat</th>\n",
       "      <th>depth</th>\n",
       "      <th>table</th>\n",
       "      <th>price</th>\n",
       "      <th>x</th>\n",
       "      <th>y</th>\n",
       "      <th>z</th>\n",
       "      <th>clarity_numeric</th>\n",
       "      <th>color_numeric</th>\n",
       "    </tr>\n",
       "  </thead>\n",
       "  <tbody>\n",
       "    <tr>\n",
       "      <th>count</th>\n",
       "      <td>53940.000000</td>\n",
       "      <td>53940.000000</td>\n",
       "      <td>53940.000000</td>\n",
       "      <td>53940.000000</td>\n",
       "      <td>53940.000000</td>\n",
       "      <td>53940.000000</td>\n",
       "      <td>53940.000000</td>\n",
       "      <td>53940.000000</td>\n",
       "      <td>53940.000000</td>\n",
       "    </tr>\n",
       "    <tr>\n",
       "      <th>mean</th>\n",
       "      <td>0.797940</td>\n",
       "      <td>61.749405</td>\n",
       "      <td>57.457184</td>\n",
       "      <td>3932.799722</td>\n",
       "      <td>5.731157</td>\n",
       "      <td>5.734526</td>\n",
       "      <td>3.538734</td>\n",
       "      <td>3.051020</td>\n",
       "      <td>3.405803</td>\n",
       "    </tr>\n",
       "    <tr>\n",
       "      <th>std</th>\n",
       "      <td>0.474011</td>\n",
       "      <td>1.432621</td>\n",
       "      <td>2.234491</td>\n",
       "      <td>3989.439738</td>\n",
       "      <td>1.121761</td>\n",
       "      <td>1.142135</td>\n",
       "      <td>0.705699</td>\n",
       "      <td>1.647136</td>\n",
       "      <td>1.701105</td>\n",
       "    </tr>\n",
       "    <tr>\n",
       "      <th>min</th>\n",
       "      <td>0.200000</td>\n",
       "      <td>43.000000</td>\n",
       "      <td>43.000000</td>\n",
       "      <td>326.000000</td>\n",
       "      <td>0.000000</td>\n",
       "      <td>0.000000</td>\n",
       "      <td>0.000000</td>\n",
       "      <td>0.000000</td>\n",
       "      <td>0.000000</td>\n",
       "    </tr>\n",
       "    <tr>\n",
       "      <th>25%</th>\n",
       "      <td>0.400000</td>\n",
       "      <td>61.000000</td>\n",
       "      <td>56.000000</td>\n",
       "      <td>950.000000</td>\n",
       "      <td>4.710000</td>\n",
       "      <td>4.720000</td>\n",
       "      <td>2.910000</td>\n",
       "      <td>2.000000</td>\n",
       "      <td>2.000000</td>\n",
       "    </tr>\n",
       "    <tr>\n",
       "      <th>50%</th>\n",
       "      <td>0.700000</td>\n",
       "      <td>61.800000</td>\n",
       "      <td>57.000000</td>\n",
       "      <td>2401.000000</td>\n",
       "      <td>5.700000</td>\n",
       "      <td>5.710000</td>\n",
       "      <td>3.530000</td>\n",
       "      <td>3.000000</td>\n",
       "      <td>3.000000</td>\n",
       "    </tr>\n",
       "    <tr>\n",
       "      <th>75%</th>\n",
       "      <td>1.040000</td>\n",
       "      <td>62.500000</td>\n",
       "      <td>59.000000</td>\n",
       "      <td>5324.250000</td>\n",
       "      <td>6.540000</td>\n",
       "      <td>6.540000</td>\n",
       "      <td>4.040000</td>\n",
       "      <td>4.000000</td>\n",
       "      <td>5.000000</td>\n",
       "    </tr>\n",
       "    <tr>\n",
       "      <th>max</th>\n",
       "      <td>5.010000</td>\n",
       "      <td>79.000000</td>\n",
       "      <td>95.000000</td>\n",
       "      <td>18823.000000</td>\n",
       "      <td>10.740000</td>\n",
       "      <td>58.900000</td>\n",
       "      <td>31.800000</td>\n",
       "      <td>7.000000</td>\n",
       "      <td>6.000000</td>\n",
       "    </tr>\n",
       "  </tbody>\n",
       "</table>\n",
       "</div>"
      ],
      "text/plain": [
       "              carat         depth         table         price             x  \\\n",
       "count  53940.000000  53940.000000  53940.000000  53940.000000  53940.000000   \n",
       "mean       0.797940     61.749405     57.457184   3932.799722      5.731157   \n",
       "std        0.474011      1.432621      2.234491   3989.439738      1.121761   \n",
       "min        0.200000     43.000000     43.000000    326.000000      0.000000   \n",
       "25%        0.400000     61.000000     56.000000    950.000000      4.710000   \n",
       "50%        0.700000     61.800000     57.000000   2401.000000      5.700000   \n",
       "75%        1.040000     62.500000     59.000000   5324.250000      6.540000   \n",
       "max        5.010000     79.000000     95.000000  18823.000000     10.740000   \n",
       "\n",
       "                  y             z  clarity_numeric  color_numeric  \n",
       "count  53940.000000  53940.000000     53940.000000   53940.000000  \n",
       "mean       5.734526      3.538734         3.051020       3.405803  \n",
       "std        1.142135      0.705699         1.647136       1.701105  \n",
       "min        0.000000      0.000000         0.000000       0.000000  \n",
       "25%        4.720000      2.910000         2.000000       2.000000  \n",
       "50%        5.710000      3.530000         3.000000       3.000000  \n",
       "75%        6.540000      4.040000         4.000000       5.000000  \n",
       "max       58.900000     31.800000         7.000000       6.000000  "
      ]
     },
     "execution_count": 39,
     "metadata": {},
     "output_type": "execute_result"
    }
   ],
   "source": [
    "#your code and comments here\n",
    "diamonds.describe()"
   ]
  },
  {
   "cell_type": "markdown",
   "metadata": {},
   "source": [
    "You have probably noticed that the columns x, y and z have a minimum value of 0. This means that there are one or more rows (or observations) in our dataset that are supposedly representing a diamond that has lenght, width or depth of 0. Considering that we're talking about a physical object, this is impossible!\n",
    "\n",
    "Now let's proceed to check the rows that have a value of 0 in any of the x, y or z columns. By doing this we want to check if the data we are missing can be obtained using the data that we do have.\n",
    "\n",
    "**Check the columns with `x`, `y` and `z` with value 0 in all of them and comment what you see**"
   ]
  },
  {
   "cell_type": "code",
   "execution_count": 49,
   "metadata": {},
   "outputs": [
    {
     "name": "stdout",
     "output_type": "stream",
     "text": [
      "20\n",
      "       carat        cut color clarity  depth  table  price     x     y    z  \\\n",
      "2208    1.00    Premium     G     SI2   59.1   59.0   3142  6.55  6.48  0.0   \n",
      "2315    1.01    Premium     H      I1   58.1   59.0   3167  6.66  6.60  0.0   \n",
      "4792    1.10    Premium     G     SI2   63.0   59.0   3696  6.50  6.47  0.0   \n",
      "5472    1.01    Premium     F     SI2   59.2   58.0   3837  6.50  6.47  0.0   \n",
      "10168   1.50       Good     G      I1   64.0   61.0   4731  7.15  7.04  0.0   \n",
      "11183   1.07      Ideal     F     SI2   61.6   56.0   4954  0.00  6.62  0.0   \n",
      "11964   1.00  Very Good     H     VS2   63.3   53.0   5139  0.00  0.00  0.0   \n",
      "13602   1.15      Ideal     G     VS2   59.2   56.0   5564  6.88  6.83  0.0   \n",
      "15952   1.14       Fair     G     VS1   57.5   67.0   6381  0.00  0.00  0.0   \n",
      "24395   2.18    Premium     H     SI2   59.4   61.0  12631  8.49  8.45  0.0   \n",
      "24521   1.56      Ideal     G     VS2   62.2   54.0  12800  0.00  0.00  0.0   \n",
      "26124   2.25    Premium     I     SI1   61.3   58.0  15397  8.52  8.42  0.0   \n",
      "26244   1.20    Premium     D    VVS1   62.1   59.0  15686  0.00  0.00  0.0   \n",
      "27113   2.20    Premium     H     SI1   61.2   59.0  17265  8.42  8.37  0.0   \n",
      "27430   2.25    Premium     H     SI2   62.8   59.0  18034  0.00  0.00  0.0   \n",
      "27504   2.02    Premium     H     VS2   62.7   53.0  18207  8.02  7.95  0.0   \n",
      "27740   2.80       Good     G     SI2   63.8   58.0  18788  8.90  8.85  0.0   \n",
      "49557   0.71       Good     F     SI2   64.1   60.0   2130  0.00  0.00  0.0   \n",
      "49558   0.71       Good     F     SI2   64.1   60.0   2130  0.00  0.00  0.0   \n",
      "51507   1.12    Premium     G      I1   60.4   59.0   2383  6.71  6.67  0.0   \n",
      "\n",
      "       clarity_numeric  color_numeric  \n",
      "2208                 1              3  \n",
      "2315                 0              2  \n",
      "4792                 1              3  \n",
      "5472                 1              4  \n",
      "10168                0              3  \n",
      "11183                1              4  \n",
      "11964                3              2  \n",
      "13602                3              3  \n",
      "15952                4              3  \n",
      "24395                1              2  \n",
      "24521                3              3  \n",
      "26124                2              1  \n",
      "26244                6              6  \n",
      "27113                2              2  \n",
      "27430                1              2  \n",
      "27504                3              2  \n",
      "27740                1              3  \n",
      "49557                1              4  \n",
      "49558                1              4  \n",
      "51507                0              3  \n"
     ]
    }
   ],
   "source": [
    "#your code here\n",
    "diamonds0 = diamonds[(diamonds[\"x\"]==0) | (diamonds[\"y\"]==0) | (diamonds[\"z\"]==0)]\n",
    "print(len(diamonds0))\n",
    "print(diamonds0)"
   ]
  },
  {
   "cell_type": "markdown",
   "metadata": {},
   "source": [
    "As you can see, we have 20 rows that have a value of 0 in some or all the aforementioned columns.\n",
    "Most of them (12) are missing the z value, which we can obtain using the columns depth, x and y. \n",
    "\n",
    "20 rows with issues represent just 0.03% of our data (20 out of 53940) so it wouldn't be a big deal to remove them. Still, lets try to keep all the data we have. \n",
    "\n",
    "For those 12 rows, we will create a function that applies the formula given in the codebook and get the value of z. We will drop the other rows (8), since they are missing all 3 values or 2 of them.\n",
    "\n",
    "**Create a function named `calculate_z` that applies the function in the codebook to one single row you give to the function**"
   ]
  },
  {
   "cell_type": "code",
   "execution_count": 50,
   "metadata": {},
   "outputs": [],
   "source": [
    "# #your code here\n",
    "# def calculate_z(row):\n",
    "#     diamonds[\"z\"] = diamonds[\"depth\"] * np.mean(diamonds[\"x\"], diamonds[\"y\"])\n",
    "#     return diamonds[\"z\"]\n",
    "\n",
    "\n",
    "\n",
    "\n",
    "# #your code here\n",
    "# # Créer une fonction pour calculer z à partir de depth, x et y\n",
    "def calculate_z(row):\n",
    "    \"\"\"\n",
    "    Calcule la profondeur z pour une ligne donnée en utilisant :\n",
    "    Depth = z / moyenne(x, y)  →  z = Depth * (x + y) / 2\n",
    "    \"\"\"\n",
    "    return row['depth'] * (row['x'] + row['y']) / 2\n",
    "\n"
   ]
  },
  {
   "cell_type": "markdown",
   "metadata": {},
   "source": [
    "**Apply it just to the rows with incorrect values**"
   ]
  },
  {
   "cell_type": "code",
   "execution_count": 51,
   "metadata": {},
   "outputs": [
    {
     "name": "stdout",
     "output_type": "stream",
     "text": [
      "          x     y  depth         z\n",
      "2208   6.55  6.48   59.1  385.0365\n",
      "2315   6.66  6.60   58.1  385.2030\n",
      "4792   6.50  6.47   63.0  408.5550\n",
      "5472   6.50  6.47   59.2  383.9120\n",
      "10168  7.15  7.04   64.0  454.0800\n"
     ]
    }
   ],
   "source": [
    "#your code here\n",
    "\n",
    "\n",
    "# #your code here\n",
    "# Trouver les lignes avec z = 0 mais x et y valides\n",
    "find_missing_z = (diamonds['z'] == 0) & (diamonds['x'] > 0) & (diamonds['y'] > 0)\n",
    "\n",
    "# Appliquer uniquement à ces lignes pour remplacer z\n",
    "diamonds.loc[find_missing_z, 'z'] = diamonds[find_missing_z].apply(calculate_z, axis=1)\n",
    "\n",
    "# Vérifier\n",
    "print(diamonds.loc[find_missing_z, ['x', 'y', 'depth', 'z']].head())\n",
    "\n"
   ]
  },
  {
   "cell_type": "markdown",
   "metadata": {},
   "source": [
    "If we leave the other 8 values as they are, it would negatively affect our analysis, because these are data that do not make logical sense. Therefore it is better to consider those values as NaN values, since they are probably the result of a mistake or error during process of measuring and storing these values in a dataset.\n",
    "\n",
    "To replace them we can use the pandas .replace() method and np.NaN.\n",
    "\n",
    "**Replace the zero values in the `z` column for a NaN**"
   ]
  },
  {
   "cell_type": "code",
   "execution_count": 53,
   "metadata": {},
   "outputs": [
    {
     "name": "stdout",
     "output_type": "stream",
     "text": [
      "8\n"
     ]
    }
   ],
   "source": [
    "#your code here\n",
    "\n",
    "\n",
    "#your code here\n",
    "# Remplacer les valeurs 0 dans la colonne 'z' par NaN\n",
    "diamonds['z'] = diamonds['z'].replace(0, np.nan)\n",
    "\n",
    "# Vérifier le résultat\n",
    "print(diamonds['z'].isna().sum())\n",
    "\n"
   ]
  },
  {
   "cell_type": "markdown",
   "metadata": {},
   "source": [
    "----\n",
    "# Bonus: check the new z values\n",
    "Since we need to be 100% sure of our data, let's create a function that validates our z. To do so, we will use the same formula, but this time we will calculate the value of depth with the new value assigned to z.\n",
    "\n",
    "**Create a function named `validate_z` that compares the `z`  in cells above with the one thrown by the formula and run it with the rows you changed in the cells above**"
   ]
  },
  {
   "cell_type": "code",
   "execution_count": 54,
   "metadata": {},
   "outputs": [
    {
     "name": "stdout",
     "output_type": "stream",
     "text": [
      "Nombre de lignes validées : 12\n",
      "Nombre total vérifiées : 53932\n"
     ]
    }
   ],
   "source": [
    "#your code here\n",
    "\n",
    "\n",
    "#your code here\n",
    "# Définir la fonction de validation\n",
    "def validate_z(row):\n",
    "    \"\"\"\n",
    "    Vérifie si la profondeur calculée à partir du z actuel\n",
    "    correspond bien à la valeur de 'depth' enregistrée.\n",
    "    \"\"\"\n",
    "    # Éviter la division par zéro\n",
    "    if (row['x'] + row['y']) == 0:\n",
    "        return False\n",
    "    \n",
    "    # Calculer depth à partir de z\n",
    "    computed_depth = row['z'] / ((row['x'] + row['y']) / 2)\n",
    "    \n",
    "    # Autoriser une petite marge d'erreur\n",
    "    return abs(computed_depth - row['depth']) < 1e-6\n",
    "\n",
    "# Filtrer les lignes qu'on avait modifiées\n",
    "mask_replaced_z = (diamonds['z'].notna()) & (diamonds['x'] > 0) & (diamonds['y'] > 0)\n",
    "\n",
    "# Appliquer la vérification\n",
    "validation_results = diamonds[mask_replaced_z].apply(validate_z, axis=1)\n",
    "\n",
    "# Vérifier combien sont correctes\n",
    "print(f\"Nombre de lignes validées : {validation_results.sum()}\")\n",
    "print(f\"Nombre total vérifiées : {validation_results.shape[0]}\")\n",
    "\n"
   ]
  },
  {
   "cell_type": "code",
   "execution_count": 55,
   "metadata": {},
   "outputs": [
    {
     "data": {
      "text/html": [
       "<style type=\"text/css\">\n",
       "#T_9d376_row0_col0, #T_9d376_row1_col0, #T_9d376_row2_col0, #T_9d376_row3_col0, #T_9d376_row3_col1, #T_9d376_row3_col2, #T_9d376_row3_col3, #T_9d376_row3_col4, #T_9d376_row3_col5, #T_9d376_row3_col6, #T_9d376_row3_col7, #T_9d376_row4_col0, #T_9d376_row5_col0, #T_9d376_row7_col0, #T_9d376_row8_col0 {\n",
       "  background-color: #08306b;\n",
       "  color: #f1f1f1;\n",
       "}\n",
       "#T_9d376_row0_col1, #T_9d376_row0_col2, #T_9d376_row0_col3, #T_9d376_row0_col4, #T_9d376_row0_col5, #T_9d376_row0_col6, #T_9d376_row0_col7, #T_9d376_row1_col2, #T_9d376_row2_col2, #T_9d376_row4_col1, #T_9d376_row4_col2, #T_9d376_row4_col3, #T_9d376_row4_col5, #T_9d376_row4_col6, #T_9d376_row4_col7, #T_9d376_row5_col1, #T_9d376_row5_col2, #T_9d376_row5_col3, #T_9d376_row5_col5, #T_9d376_row5_col6, #T_9d376_row5_col7, #T_9d376_row6_col0, #T_9d376_row6_col1, #T_9d376_row6_col2, #T_9d376_row6_col3, #T_9d376_row6_col4, #T_9d376_row6_col5, #T_9d376_row6_col6, #T_9d376_row7_col1, #T_9d376_row7_col2, #T_9d376_row7_col3, #T_9d376_row7_col4, #T_9d376_row7_col5, #T_9d376_row7_col6, #T_9d376_row7_col7, #T_9d376_row8_col1, #T_9d376_row8_col2, #T_9d376_row8_col3, #T_9d376_row8_col4, #T_9d376_row8_col5, #T_9d376_row8_col6, #T_9d376_row8_col7 {\n",
       "  background-color: #f7fbff;\n",
       "  color: #000000;\n",
       "}\n",
       "#T_9d376_row1_col1, #T_9d376_row2_col1 {\n",
       "  background-color: #f5f9fe;\n",
       "  color: #000000;\n",
       "}\n",
       "#T_9d376_row1_col3, #T_9d376_row2_col3 {\n",
       "  background-color: #ddeaf7;\n",
       "  color: #000000;\n",
       "}\n",
       "#T_9d376_row1_col4 {\n",
       "  background-color: #eaf3fb;\n",
       "  color: #000000;\n",
       "}\n",
       "#T_9d376_row1_col5, #T_9d376_row2_col5 {\n",
       "  background-color: #f2f8fd;\n",
       "  color: #000000;\n",
       "}\n",
       "#T_9d376_row1_col6, #T_9d376_row2_col6 {\n",
       "  background-color: #f5fafe;\n",
       "  color: #000000;\n",
       "}\n",
       "#T_9d376_row1_col7, #T_9d376_row2_col7, #T_9d376_row4_col4, #T_9d376_row5_col4 {\n",
       "  background-color: #f6faff;\n",
       "  color: #000000;\n",
       "}\n",
       "#T_9d376_row2_col4 {\n",
       "  background-color: #ecf4fb;\n",
       "  color: #000000;\n",
       "}\n",
       "#T_9d376_row6_col7 {\n",
       "  background-color: #f2f7fd;\n",
       "  color: #000000;\n",
       "}\n",
       "</style>\n",
       "<table id=\"T_9d376\">\n",
       "  <thead>\n",
       "    <tr>\n",
       "      <th class=\"blank level0\" >&nbsp;</th>\n",
       "      <th id=\"T_9d376_level0_col0\" class=\"col_heading level0 col0\" >count</th>\n",
       "      <th id=\"T_9d376_level0_col1\" class=\"col_heading level0 col1\" >mean</th>\n",
       "      <th id=\"T_9d376_level0_col2\" class=\"col_heading level0 col2\" >std</th>\n",
       "      <th id=\"T_9d376_level0_col3\" class=\"col_heading level0 col3\" >min</th>\n",
       "      <th id=\"T_9d376_level0_col4\" class=\"col_heading level0 col4\" >25%</th>\n",
       "      <th id=\"T_9d376_level0_col5\" class=\"col_heading level0 col5\" >50%</th>\n",
       "      <th id=\"T_9d376_level0_col6\" class=\"col_heading level0 col6\" >75%</th>\n",
       "      <th id=\"T_9d376_level0_col7\" class=\"col_heading level0 col7\" >max</th>\n",
       "    </tr>\n",
       "  </thead>\n",
       "  <tbody>\n",
       "    <tr>\n",
       "      <th id=\"T_9d376_level0_row0\" class=\"row_heading level0 row0\" >carat</th>\n",
       "      <td id=\"T_9d376_row0_col0\" class=\"data row0 col0\" >53940.000000</td>\n",
       "      <td id=\"T_9d376_row0_col1\" class=\"data row0 col1\" >0.797940</td>\n",
       "      <td id=\"T_9d376_row0_col2\" class=\"data row0 col2\" >0.474011</td>\n",
       "      <td id=\"T_9d376_row0_col3\" class=\"data row0 col3\" >0.200000</td>\n",
       "      <td id=\"T_9d376_row0_col4\" class=\"data row0 col4\" >0.400000</td>\n",
       "      <td id=\"T_9d376_row0_col5\" class=\"data row0 col5\" >0.700000</td>\n",
       "      <td id=\"T_9d376_row0_col6\" class=\"data row0 col6\" >1.040000</td>\n",
       "      <td id=\"T_9d376_row0_col7\" class=\"data row0 col7\" >5.010000</td>\n",
       "    </tr>\n",
       "    <tr>\n",
       "      <th id=\"T_9d376_level0_row1\" class=\"row_heading level0 row1\" >depth</th>\n",
       "      <td id=\"T_9d376_row1_col0\" class=\"data row1 col0\" >53940.000000</td>\n",
       "      <td id=\"T_9d376_row1_col1\" class=\"data row1 col1\" >61.749405</td>\n",
       "      <td id=\"T_9d376_row1_col2\" class=\"data row1 col2\" >1.432621</td>\n",
       "      <td id=\"T_9d376_row1_col3\" class=\"data row1 col3\" >43.000000</td>\n",
       "      <td id=\"T_9d376_row1_col4\" class=\"data row1 col4\" >61.000000</td>\n",
       "      <td id=\"T_9d376_row1_col5\" class=\"data row1 col5\" >61.800000</td>\n",
       "      <td id=\"T_9d376_row1_col6\" class=\"data row1 col6\" >62.500000</td>\n",
       "      <td id=\"T_9d376_row1_col7\" class=\"data row1 col7\" >79.000000</td>\n",
       "    </tr>\n",
       "    <tr>\n",
       "      <th id=\"T_9d376_level0_row2\" class=\"row_heading level0 row2\" >table</th>\n",
       "      <td id=\"T_9d376_row2_col0\" class=\"data row2 col0\" >53940.000000</td>\n",
       "      <td id=\"T_9d376_row2_col1\" class=\"data row2 col1\" >57.457184</td>\n",
       "      <td id=\"T_9d376_row2_col2\" class=\"data row2 col2\" >2.234491</td>\n",
       "      <td id=\"T_9d376_row2_col3\" class=\"data row2 col3\" >43.000000</td>\n",
       "      <td id=\"T_9d376_row2_col4\" class=\"data row2 col4\" >56.000000</td>\n",
       "      <td id=\"T_9d376_row2_col5\" class=\"data row2 col5\" >57.000000</td>\n",
       "      <td id=\"T_9d376_row2_col6\" class=\"data row2 col6\" >59.000000</td>\n",
       "      <td id=\"T_9d376_row2_col7\" class=\"data row2 col7\" >95.000000</td>\n",
       "    </tr>\n",
       "    <tr>\n",
       "      <th id=\"T_9d376_level0_row3\" class=\"row_heading level0 row3\" >price</th>\n",
       "      <td id=\"T_9d376_row3_col0\" class=\"data row3 col0\" >53940.000000</td>\n",
       "      <td id=\"T_9d376_row3_col1\" class=\"data row3 col1\" >3932.799722</td>\n",
       "      <td id=\"T_9d376_row3_col2\" class=\"data row3 col2\" >3989.439738</td>\n",
       "      <td id=\"T_9d376_row3_col3\" class=\"data row3 col3\" >326.000000</td>\n",
       "      <td id=\"T_9d376_row3_col4\" class=\"data row3 col4\" >950.000000</td>\n",
       "      <td id=\"T_9d376_row3_col5\" class=\"data row3 col5\" >2401.000000</td>\n",
       "      <td id=\"T_9d376_row3_col6\" class=\"data row3 col6\" >5324.250000</td>\n",
       "      <td id=\"T_9d376_row3_col7\" class=\"data row3 col7\" >18823.000000</td>\n",
       "    </tr>\n",
       "    <tr>\n",
       "      <th id=\"T_9d376_level0_row4\" class=\"row_heading level0 row4\" >x</th>\n",
       "      <td id=\"T_9d376_row4_col0\" class=\"data row4 col0\" >53940.000000</td>\n",
       "      <td id=\"T_9d376_row4_col1\" class=\"data row4 col1\" >5.731157</td>\n",
       "      <td id=\"T_9d376_row4_col2\" class=\"data row4 col2\" >1.121761</td>\n",
       "      <td id=\"T_9d376_row4_col3\" class=\"data row4 col3\" >0.000000</td>\n",
       "      <td id=\"T_9d376_row4_col4\" class=\"data row4 col4\" >4.710000</td>\n",
       "      <td id=\"T_9d376_row4_col5\" class=\"data row4 col5\" >5.700000</td>\n",
       "      <td id=\"T_9d376_row4_col6\" class=\"data row4 col6\" >6.540000</td>\n",
       "      <td id=\"T_9d376_row4_col7\" class=\"data row4 col7\" >10.740000</td>\n",
       "    </tr>\n",
       "    <tr>\n",
       "      <th id=\"T_9d376_level0_row5\" class=\"row_heading level0 row5\" >y</th>\n",
       "      <td id=\"T_9d376_row5_col0\" class=\"data row5 col0\" >53940.000000</td>\n",
       "      <td id=\"T_9d376_row5_col1\" class=\"data row5 col1\" >5.734526</td>\n",
       "      <td id=\"T_9d376_row5_col2\" class=\"data row5 col2\" >1.142135</td>\n",
       "      <td id=\"T_9d376_row5_col3\" class=\"data row5 col3\" >0.000000</td>\n",
       "      <td id=\"T_9d376_row5_col4\" class=\"data row5 col4\" >4.720000</td>\n",
       "      <td id=\"T_9d376_row5_col5\" class=\"data row5 col5\" >5.710000</td>\n",
       "      <td id=\"T_9d376_row5_col6\" class=\"data row5 col6\" >6.540000</td>\n",
       "      <td id=\"T_9d376_row5_col7\" class=\"data row5 col7\" >58.900000</td>\n",
       "    </tr>\n",
       "    <tr>\n",
       "      <th id=\"T_9d376_level0_row6\" class=\"row_heading level0 row6\" >z</th>\n",
       "      <td id=\"T_9d376_row6_col0\" class=\"data row6 col0\" >53932.000000</td>\n",
       "      <td id=\"T_9d376_row6_col1\" class=\"data row6 col1\" >3.639935</td>\n",
       "      <td id=\"T_9d376_row6_col2\" class=\"data row6 col2\" >6.795973</td>\n",
       "      <td id=\"T_9d376_row6_col3\" class=\"data row6 col3\" >1.070000</td>\n",
       "      <td id=\"T_9d376_row6_col4\" class=\"data row6 col4\" >2.910000</td>\n",
       "      <td id=\"T_9d376_row6_col5\" class=\"data row6 col5\" >3.530000</td>\n",
       "      <td id=\"T_9d376_row6_col6\" class=\"data row6 col6\" >4.040000</td>\n",
       "      <td id=\"T_9d376_row6_col7\" class=\"data row6 col7\" >566.225000</td>\n",
       "    </tr>\n",
       "    <tr>\n",
       "      <th id=\"T_9d376_level0_row7\" class=\"row_heading level0 row7\" >clarity_numeric</th>\n",
       "      <td id=\"T_9d376_row7_col0\" class=\"data row7 col0\" >53940.000000</td>\n",
       "      <td id=\"T_9d376_row7_col1\" class=\"data row7 col1\" >3.051020</td>\n",
       "      <td id=\"T_9d376_row7_col2\" class=\"data row7 col2\" >1.647136</td>\n",
       "      <td id=\"T_9d376_row7_col3\" class=\"data row7 col3\" >0.000000</td>\n",
       "      <td id=\"T_9d376_row7_col4\" class=\"data row7 col4\" >2.000000</td>\n",
       "      <td id=\"T_9d376_row7_col5\" class=\"data row7 col5\" >3.000000</td>\n",
       "      <td id=\"T_9d376_row7_col6\" class=\"data row7 col6\" >4.000000</td>\n",
       "      <td id=\"T_9d376_row7_col7\" class=\"data row7 col7\" >7.000000</td>\n",
       "    </tr>\n",
       "    <tr>\n",
       "      <th id=\"T_9d376_level0_row8\" class=\"row_heading level0 row8\" >color_numeric</th>\n",
       "      <td id=\"T_9d376_row8_col0\" class=\"data row8 col0\" >53940.000000</td>\n",
       "      <td id=\"T_9d376_row8_col1\" class=\"data row8 col1\" >3.405803</td>\n",
       "      <td id=\"T_9d376_row8_col2\" class=\"data row8 col2\" >1.701105</td>\n",
       "      <td id=\"T_9d376_row8_col3\" class=\"data row8 col3\" >0.000000</td>\n",
       "      <td id=\"T_9d376_row8_col4\" class=\"data row8 col4\" >2.000000</td>\n",
       "      <td id=\"T_9d376_row8_col5\" class=\"data row8 col5\" >3.000000</td>\n",
       "      <td id=\"T_9d376_row8_col6\" class=\"data row8 col6\" >5.000000</td>\n",
       "      <td id=\"T_9d376_row8_col7\" class=\"data row8 col7\" >6.000000</td>\n",
       "    </tr>\n",
       "  </tbody>\n",
       "</table>\n"
      ],
      "text/plain": [
       "<pandas.io.formats.style.Styler at 0x1f088aa7b60>"
      ]
     },
     "execution_count": 55,
     "metadata": {},
     "output_type": "execute_result"
    }
   ],
   "source": [
    "diamonds.describe().T.style.background_gradient(cmap='Blues')"
   ]
  },
  {
   "cell_type": "markdown",
   "metadata": {},
   "source": [
    "Let's check the data again with the `describe()` method."
   ]
  },
  {
   "cell_type": "markdown",
   "metadata": {},
   "source": [
    "The minimum value for x, y and z should now be a positive number, as it should be for the physical measurements of an object."
   ]
  },
  {
   "cell_type": "markdown",
   "metadata": {},
   "source": [
    "Let's finish by checking for NaN values in the data. Since we introduced them ourselves using 'replace', we will surely find some, but there may be more that are unrelated to the x, y and z columns. Checking NaNs is a fundamental part of data cleaning and it's always better to do this kind of operations before proceeding with analysis.\n",
    "\n",
    "**Check how many NaNs do you have, comment what you would do with those values, and then do so**"
   ]
  },
  {
   "cell_type": "code",
   "execution_count": 56,
   "metadata": {},
   "outputs": [
    {
     "data": {
      "text/html": [
       "<div>\n",
       "<style scoped>\n",
       "    .dataframe tbody tr th:only-of-type {\n",
       "        vertical-align: middle;\n",
       "    }\n",
       "\n",
       "    .dataframe tbody tr th {\n",
       "        vertical-align: top;\n",
       "    }\n",
       "\n",
       "    .dataframe thead th {\n",
       "        text-align: right;\n",
       "    }\n",
       "</style>\n",
       "<table border=\"1\" class=\"dataframe\">\n",
       "  <thead>\n",
       "    <tr style=\"text-align: right;\">\n",
       "      <th></th>\n",
       "      <th>count</th>\n",
       "      <th>mean</th>\n",
       "      <th>std</th>\n",
       "      <th>min</th>\n",
       "      <th>25%</th>\n",
       "      <th>50%</th>\n",
       "      <th>75%</th>\n",
       "      <th>max</th>\n",
       "    </tr>\n",
       "  </thead>\n",
       "  <tbody>\n",
       "    <tr>\n",
       "      <th>carat</th>\n",
       "      <td>53940.00</td>\n",
       "      <td>0.80</td>\n",
       "      <td>0.47</td>\n",
       "      <td>0.20</td>\n",
       "      <td>0.40</td>\n",
       "      <td>0.70</td>\n",
       "      <td>1.04</td>\n",
       "      <td>5.01</td>\n",
       "    </tr>\n",
       "    <tr>\n",
       "      <th>depth</th>\n",
       "      <td>53940.00</td>\n",
       "      <td>61.75</td>\n",
       "      <td>1.43</td>\n",
       "      <td>43.00</td>\n",
       "      <td>61.00</td>\n",
       "      <td>61.80</td>\n",
       "      <td>62.50</td>\n",
       "      <td>79.00</td>\n",
       "    </tr>\n",
       "    <tr>\n",
       "      <th>table</th>\n",
       "      <td>53940.00</td>\n",
       "      <td>57.46</td>\n",
       "      <td>2.23</td>\n",
       "      <td>43.00</td>\n",
       "      <td>56.00</td>\n",
       "      <td>57.00</td>\n",
       "      <td>59.00</td>\n",
       "      <td>95.00</td>\n",
       "    </tr>\n",
       "    <tr>\n",
       "      <th>price</th>\n",
       "      <td>53940.00</td>\n",
       "      <td>3932.80</td>\n",
       "      <td>3989.44</td>\n",
       "      <td>326.00</td>\n",
       "      <td>950.00</td>\n",
       "      <td>2401.00</td>\n",
       "      <td>5324.25</td>\n",
       "      <td>18823.00</td>\n",
       "    </tr>\n",
       "    <tr>\n",
       "      <th>x</th>\n",
       "      <td>53940.00</td>\n",
       "      <td>5.73</td>\n",
       "      <td>1.12</td>\n",
       "      <td>0.00</td>\n",
       "      <td>4.71</td>\n",
       "      <td>5.70</td>\n",
       "      <td>6.54</td>\n",
       "      <td>10.74</td>\n",
       "    </tr>\n",
       "    <tr>\n",
       "      <th>y</th>\n",
       "      <td>53940.00</td>\n",
       "      <td>5.73</td>\n",
       "      <td>1.14</td>\n",
       "      <td>0.00</td>\n",
       "      <td>4.72</td>\n",
       "      <td>5.71</td>\n",
       "      <td>6.54</td>\n",
       "      <td>58.90</td>\n",
       "    </tr>\n",
       "    <tr>\n",
       "      <th>z</th>\n",
       "      <td>53932.00</td>\n",
       "      <td>3.64</td>\n",
       "      <td>6.80</td>\n",
       "      <td>1.07</td>\n",
       "      <td>2.91</td>\n",
       "      <td>3.53</td>\n",
       "      <td>4.04</td>\n",
       "      <td>566.23</td>\n",
       "    </tr>\n",
       "    <tr>\n",
       "      <th>clarity_numeric</th>\n",
       "      <td>53940.00</td>\n",
       "      <td>3.05</td>\n",
       "      <td>1.65</td>\n",
       "      <td>0.00</td>\n",
       "      <td>2.00</td>\n",
       "      <td>3.00</td>\n",
       "      <td>4.00</td>\n",
       "      <td>7.00</td>\n",
       "    </tr>\n",
       "    <tr>\n",
       "      <th>color_numeric</th>\n",
       "      <td>53940.00</td>\n",
       "      <td>3.41</td>\n",
       "      <td>1.70</td>\n",
       "      <td>0.00</td>\n",
       "      <td>2.00</td>\n",
       "      <td>3.00</td>\n",
       "      <td>5.00</td>\n",
       "      <td>6.00</td>\n",
       "    </tr>\n",
       "  </tbody>\n",
       "</table>\n",
       "</div>"
      ],
      "text/plain": [
       "                   count    mean     std    min    25%     50%     75%  \\\n",
       "carat           53940.00    0.80    0.47   0.20   0.40    0.70    1.04   \n",
       "depth           53940.00   61.75    1.43  43.00  61.00   61.80   62.50   \n",
       "table           53940.00   57.46    2.23  43.00  56.00   57.00   59.00   \n",
       "price           53940.00 3932.80 3989.44 326.00 950.00 2401.00 5324.25   \n",
       "x               53940.00    5.73    1.12   0.00   4.71    5.70    6.54   \n",
       "y               53940.00    5.73    1.14   0.00   4.72    5.71    6.54   \n",
       "z               53932.00    3.64    6.80   1.07   2.91    3.53    4.04   \n",
       "clarity_numeric 53940.00    3.05    1.65   0.00   2.00    3.00    4.00   \n",
       "color_numeric   53940.00    3.41    1.70   0.00   2.00    3.00    5.00   \n",
       "\n",
       "                     max  \n",
       "carat               5.01  \n",
       "depth              79.00  \n",
       "table              95.00  \n",
       "price           18823.00  \n",
       "x                  10.74  \n",
       "y                  58.90  \n",
       "z                 566.23  \n",
       "clarity_numeric     7.00  \n",
       "color_numeric       6.00  "
      ]
     },
     "execution_count": 56,
     "metadata": {},
     "output_type": "execute_result"
    }
   ],
   "source": [
    "#your code here\n",
    "\n",
    "\n",
    "#your code here\n",
    "# Plus de décimales et transposé\n",
    "pd.set_option('display.float_format', '{:.2f}'.format)\n",
    "\n",
    "# Résumé statistique transposé pour meilleure lecture\n",
    "diamonds.describe().T\n",
    "\n"
   ]
  },
  {
   "cell_type": "markdown",
   "metadata": {},
   "source": [
    "# 3. Checking for outliers\n",
    "Now we are going to revisit the summary table to check for outliers.\n",
    "\n",
    "**Use the `describe` method again and comment on what you see. After that, check if you have any outliers** "
   ]
  },
  {
   "cell_type": "code",
   "execution_count": 57,
   "metadata": {},
   "outputs": [
    {
     "data": {
      "text/html": [
       "<style type=\"text/css\">\n",
       "#T_c6b2e_row0_col0, #T_c6b2e_row1_col0, #T_c6b2e_row2_col0, #T_c6b2e_row3_col0, #T_c6b2e_row3_col1, #T_c6b2e_row3_col2, #T_c6b2e_row3_col3, #T_c6b2e_row3_col4, #T_c6b2e_row3_col5, #T_c6b2e_row3_col6, #T_c6b2e_row3_col7, #T_c6b2e_row3_col8, #T_c6b2e_row3_col9, #T_c6b2e_row4_col0, #T_c6b2e_row5_col0, #T_c6b2e_row7_col0, #T_c6b2e_row8_col0 {\n",
       "  background-color: #081d58;\n",
       "  color: #f1f1f1;\n",
       "}\n",
       "#T_c6b2e_row0_col1, #T_c6b2e_row0_col2, #T_c6b2e_row0_col3, #T_c6b2e_row0_col4, #T_c6b2e_row0_col5, #T_c6b2e_row0_col6, #T_c6b2e_row0_col7, #T_c6b2e_row0_col8, #T_c6b2e_row0_col9, #T_c6b2e_row1_col2, #T_c6b2e_row1_col8, #T_c6b2e_row2_col2, #T_c6b2e_row2_col8, #T_c6b2e_row4_col1, #T_c6b2e_row4_col2, #T_c6b2e_row4_col3, #T_c6b2e_row4_col6, #T_c6b2e_row4_col7, #T_c6b2e_row4_col8, #T_c6b2e_row4_col9, #T_c6b2e_row5_col1, #T_c6b2e_row5_col2, #T_c6b2e_row5_col3, #T_c6b2e_row5_col6, #T_c6b2e_row5_col7, #T_c6b2e_row5_col8, #T_c6b2e_row5_col9, #T_c6b2e_row6_col0, #T_c6b2e_row6_col1, #T_c6b2e_row6_col2, #T_c6b2e_row6_col3, #T_c6b2e_row6_col5, #T_c6b2e_row6_col6, #T_c6b2e_row6_col7, #T_c6b2e_row6_col8, #T_c6b2e_row7_col1, #T_c6b2e_row7_col2, #T_c6b2e_row7_col3, #T_c6b2e_row7_col4, #T_c6b2e_row7_col5, #T_c6b2e_row7_col6, #T_c6b2e_row7_col7, #T_c6b2e_row7_col8, #T_c6b2e_row7_col9, #T_c6b2e_row8_col1, #T_c6b2e_row8_col2, #T_c6b2e_row8_col3, #T_c6b2e_row8_col4, #T_c6b2e_row8_col5, #T_c6b2e_row8_col6, #T_c6b2e_row8_col7, #T_c6b2e_row8_col8, #T_c6b2e_row8_col9 {\n",
       "  background-color: #ffffd9;\n",
       "  color: #000000;\n",
       "}\n",
       "#T_c6b2e_row1_col1, #T_c6b2e_row2_col1 {\n",
       "  background-color: #fdfed5;\n",
       "  color: #000000;\n",
       "}\n",
       "#T_c6b2e_row1_col3, #T_c6b2e_row2_col3 {\n",
       "  background-color: #ecf7b1;\n",
       "  color: #000000;\n",
       "}\n",
       "#T_c6b2e_row1_col4 {\n",
       "  background-color: #eaf7b1;\n",
       "  color: #000000;\n",
       "}\n",
       "#T_c6b2e_row1_col5 {\n",
       "  background-color: #f6fbc5;\n",
       "  color: #000000;\n",
       "}\n",
       "#T_c6b2e_row1_col6, #T_c6b2e_row2_col6 {\n",
       "  background-color: #fcfed1;\n",
       "  color: #000000;\n",
       "}\n",
       "#T_c6b2e_row1_col7, #T_c6b2e_row2_col7, #T_c6b2e_row4_col4, #T_c6b2e_row5_col4 {\n",
       "  background-color: #feffd6;\n",
       "  color: #000000;\n",
       "}\n",
       "#T_c6b2e_row1_col9, #T_c6b2e_row2_col9, #T_c6b2e_row4_col5, #T_c6b2e_row5_col5, #T_c6b2e_row6_col4 {\n",
       "  background-color: #feffd8;\n",
       "  color: #000000;\n",
       "}\n",
       "#T_c6b2e_row2_col4 {\n",
       "  background-color: #edf8b2;\n",
       "  color: #000000;\n",
       "}\n",
       "#T_c6b2e_row2_col5 {\n",
       "  background-color: #f7fcc7;\n",
       "  color: #000000;\n",
       "}\n",
       "#T_c6b2e_row6_col9 {\n",
       "  background-color: #fbfdd0;\n",
       "  color: #000000;\n",
       "}\n",
       "</style>\n",
       "<table id=\"T_c6b2e\">\n",
       "  <thead>\n",
       "    <tr>\n",
       "      <th class=\"blank level0\" >&nbsp;</th>\n",
       "      <th id=\"T_c6b2e_level0_col0\" class=\"col_heading level0 col0\" >count</th>\n",
       "      <th id=\"T_c6b2e_level0_col1\" class=\"col_heading level0 col1\" >mean</th>\n",
       "      <th id=\"T_c6b2e_level0_col2\" class=\"col_heading level0 col2\" >std</th>\n",
       "      <th id=\"T_c6b2e_level0_col3\" class=\"col_heading level0 col3\" >min</th>\n",
       "      <th id=\"T_c6b2e_level0_col4\" class=\"col_heading level0 col4\" >1%</th>\n",
       "      <th id=\"T_c6b2e_level0_col5\" class=\"col_heading level0 col5\" >25%</th>\n",
       "      <th id=\"T_c6b2e_level0_col6\" class=\"col_heading level0 col6\" >50%</th>\n",
       "      <th id=\"T_c6b2e_level0_col7\" class=\"col_heading level0 col7\" >75%</th>\n",
       "      <th id=\"T_c6b2e_level0_col8\" class=\"col_heading level0 col8\" >99%</th>\n",
       "      <th id=\"T_c6b2e_level0_col9\" class=\"col_heading level0 col9\" >max</th>\n",
       "    </tr>\n",
       "  </thead>\n",
       "  <tbody>\n",
       "    <tr>\n",
       "      <th id=\"T_c6b2e_level0_row0\" class=\"row_heading level0 row0\" >carat</th>\n",
       "      <td id=\"T_c6b2e_row0_col0\" class=\"data row0 col0\" >53940.000000</td>\n",
       "      <td id=\"T_c6b2e_row0_col1\" class=\"data row0 col1\" >0.797940</td>\n",
       "      <td id=\"T_c6b2e_row0_col2\" class=\"data row0 col2\" >0.474011</td>\n",
       "      <td id=\"T_c6b2e_row0_col3\" class=\"data row0 col3\" >0.200000</td>\n",
       "      <td id=\"T_c6b2e_row0_col4\" class=\"data row0 col4\" >0.240000</td>\n",
       "      <td id=\"T_c6b2e_row0_col5\" class=\"data row0 col5\" >0.400000</td>\n",
       "      <td id=\"T_c6b2e_row0_col6\" class=\"data row0 col6\" >0.700000</td>\n",
       "      <td id=\"T_c6b2e_row0_col7\" class=\"data row0 col7\" >1.040000</td>\n",
       "      <td id=\"T_c6b2e_row0_col8\" class=\"data row0 col8\" >2.180000</td>\n",
       "      <td id=\"T_c6b2e_row0_col9\" class=\"data row0 col9\" >5.010000</td>\n",
       "    </tr>\n",
       "    <tr>\n",
       "      <th id=\"T_c6b2e_level0_row1\" class=\"row_heading level0 row1\" >depth</th>\n",
       "      <td id=\"T_c6b2e_row1_col0\" class=\"data row1 col0\" >53940.000000</td>\n",
       "      <td id=\"T_c6b2e_row1_col1\" class=\"data row1 col1\" >61.749405</td>\n",
       "      <td id=\"T_c6b2e_row1_col2\" class=\"data row1 col2\" >1.432621</td>\n",
       "      <td id=\"T_c6b2e_row1_col3\" class=\"data row1 col3\" >43.000000</td>\n",
       "      <td id=\"T_c6b2e_row1_col4\" class=\"data row1 col4\" >57.900000</td>\n",
       "      <td id=\"T_c6b2e_row1_col5\" class=\"data row1 col5\" >61.000000</td>\n",
       "      <td id=\"T_c6b2e_row1_col6\" class=\"data row1 col6\" >61.800000</td>\n",
       "      <td id=\"T_c6b2e_row1_col7\" class=\"data row1 col7\" >62.500000</td>\n",
       "      <td id=\"T_c6b2e_row1_col8\" class=\"data row1 col8\" >65.600000</td>\n",
       "      <td id=\"T_c6b2e_row1_col9\" class=\"data row1 col9\" >79.000000</td>\n",
       "    </tr>\n",
       "    <tr>\n",
       "      <th id=\"T_c6b2e_level0_row2\" class=\"row_heading level0 row2\" >table</th>\n",
       "      <td id=\"T_c6b2e_row2_col0\" class=\"data row2 col0\" >53940.000000</td>\n",
       "      <td id=\"T_c6b2e_row2_col1\" class=\"data row2 col1\" >57.457184</td>\n",
       "      <td id=\"T_c6b2e_row2_col2\" class=\"data row2 col2\" >2.234491</td>\n",
       "      <td id=\"T_c6b2e_row2_col3\" class=\"data row2 col3\" >43.000000</td>\n",
       "      <td id=\"T_c6b2e_row2_col4\" class=\"data row2 col4\" >53.000000</td>\n",
       "      <td id=\"T_c6b2e_row2_col5\" class=\"data row2 col5\" >56.000000</td>\n",
       "      <td id=\"T_c6b2e_row2_col6\" class=\"data row2 col6\" >57.000000</td>\n",
       "      <td id=\"T_c6b2e_row2_col7\" class=\"data row2 col7\" >59.000000</td>\n",
       "      <td id=\"T_c6b2e_row2_col8\" class=\"data row2 col8\" >64.000000</td>\n",
       "      <td id=\"T_c6b2e_row2_col9\" class=\"data row2 col9\" >95.000000</td>\n",
       "    </tr>\n",
       "    <tr>\n",
       "      <th id=\"T_c6b2e_level0_row3\" class=\"row_heading level0 row3\" >price</th>\n",
       "      <td id=\"T_c6b2e_row3_col0\" class=\"data row3 col0\" >53940.000000</td>\n",
       "      <td id=\"T_c6b2e_row3_col1\" class=\"data row3 col1\" >3932.799722</td>\n",
       "      <td id=\"T_c6b2e_row3_col2\" class=\"data row3 col2\" >3989.439738</td>\n",
       "      <td id=\"T_c6b2e_row3_col3\" class=\"data row3 col3\" >326.000000</td>\n",
       "      <td id=\"T_c6b2e_row3_col4\" class=\"data row3 col4\" >429.000000</td>\n",
       "      <td id=\"T_c6b2e_row3_col5\" class=\"data row3 col5\" >950.000000</td>\n",
       "      <td id=\"T_c6b2e_row3_col6\" class=\"data row3 col6\" >2401.000000</td>\n",
       "      <td id=\"T_c6b2e_row3_col7\" class=\"data row3 col7\" >5324.250000</td>\n",
       "      <td id=\"T_c6b2e_row3_col8\" class=\"data row3 col8\" >17378.220000</td>\n",
       "      <td id=\"T_c6b2e_row3_col9\" class=\"data row3 col9\" >18823.000000</td>\n",
       "    </tr>\n",
       "    <tr>\n",
       "      <th id=\"T_c6b2e_level0_row4\" class=\"row_heading level0 row4\" >x</th>\n",
       "      <td id=\"T_c6b2e_row4_col0\" class=\"data row4 col0\" >53940.000000</td>\n",
       "      <td id=\"T_c6b2e_row4_col1\" class=\"data row4 col1\" >5.731157</td>\n",
       "      <td id=\"T_c6b2e_row4_col2\" class=\"data row4 col2\" >1.121761</td>\n",
       "      <td id=\"T_c6b2e_row4_col3\" class=\"data row4 col3\" >0.000000</td>\n",
       "      <td id=\"T_c6b2e_row4_col4\" class=\"data row4 col4\" >4.020000</td>\n",
       "      <td id=\"T_c6b2e_row4_col5\" class=\"data row4 col5\" >4.710000</td>\n",
       "      <td id=\"T_c6b2e_row4_col6\" class=\"data row4 col6\" >5.700000</td>\n",
       "      <td id=\"T_c6b2e_row4_col7\" class=\"data row4 col7\" >6.540000</td>\n",
       "      <td id=\"T_c6b2e_row4_col8\" class=\"data row4 col8\" >8.360000</td>\n",
       "      <td id=\"T_c6b2e_row4_col9\" class=\"data row4 col9\" >10.740000</td>\n",
       "    </tr>\n",
       "    <tr>\n",
       "      <th id=\"T_c6b2e_level0_row5\" class=\"row_heading level0 row5\" >y</th>\n",
       "      <td id=\"T_c6b2e_row5_col0\" class=\"data row5 col0\" >53940.000000</td>\n",
       "      <td id=\"T_c6b2e_row5_col1\" class=\"data row5 col1\" >5.734526</td>\n",
       "      <td id=\"T_c6b2e_row5_col2\" class=\"data row5 col2\" >1.142135</td>\n",
       "      <td id=\"T_c6b2e_row5_col3\" class=\"data row5 col3\" >0.000000</td>\n",
       "      <td id=\"T_c6b2e_row5_col4\" class=\"data row5 col4\" >4.040000</td>\n",
       "      <td id=\"T_c6b2e_row5_col5\" class=\"data row5 col5\" >4.720000</td>\n",
       "      <td id=\"T_c6b2e_row5_col6\" class=\"data row5 col6\" >5.710000</td>\n",
       "      <td id=\"T_c6b2e_row5_col7\" class=\"data row5 col7\" >6.540000</td>\n",
       "      <td id=\"T_c6b2e_row5_col8\" class=\"data row5 col8\" >8.340000</td>\n",
       "      <td id=\"T_c6b2e_row5_col9\" class=\"data row5 col9\" >58.900000</td>\n",
       "    </tr>\n",
       "    <tr>\n",
       "      <th id=\"T_c6b2e_level0_row6\" class=\"row_heading level0 row6\" >z</th>\n",
       "      <td id=\"T_c6b2e_row6_col0\" class=\"data row6 col0\" >53932.000000</td>\n",
       "      <td id=\"T_c6b2e_row6_col1\" class=\"data row6 col1\" >3.639935</td>\n",
       "      <td id=\"T_c6b2e_row6_col2\" class=\"data row6 col2\" >6.795973</td>\n",
       "      <td id=\"T_c6b2e_row6_col3\" class=\"data row6 col3\" >1.070000</td>\n",
       "      <td id=\"T_c6b2e_row6_col4\" class=\"data row6 col4\" >2.480000</td>\n",
       "      <td id=\"T_c6b2e_row6_col5\" class=\"data row6 col5\" >2.910000</td>\n",
       "      <td id=\"T_c6b2e_row6_col6\" class=\"data row6 col6\" >3.530000</td>\n",
       "      <td id=\"T_c6b2e_row6_col7\" class=\"data row6 col7\" >4.040000</td>\n",
       "      <td id=\"T_c6b2e_row6_col8\" class=\"data row6 col8\" >5.150000</td>\n",
       "      <td id=\"T_c6b2e_row6_col9\" class=\"data row6 col9\" >566.225000</td>\n",
       "    </tr>\n",
       "    <tr>\n",
       "      <th id=\"T_c6b2e_level0_row7\" class=\"row_heading level0 row7\" >clarity_numeric</th>\n",
       "      <td id=\"T_c6b2e_row7_col0\" class=\"data row7 col0\" >53940.000000</td>\n",
       "      <td id=\"T_c6b2e_row7_col1\" class=\"data row7 col1\" >3.051020</td>\n",
       "      <td id=\"T_c6b2e_row7_col2\" class=\"data row7 col2\" >1.647136</td>\n",
       "      <td id=\"T_c6b2e_row7_col3\" class=\"data row7 col3\" >0.000000</td>\n",
       "      <td id=\"T_c6b2e_row7_col4\" class=\"data row7 col4\" >0.000000</td>\n",
       "      <td id=\"T_c6b2e_row7_col5\" class=\"data row7 col5\" >2.000000</td>\n",
       "      <td id=\"T_c6b2e_row7_col6\" class=\"data row7 col6\" >3.000000</td>\n",
       "      <td id=\"T_c6b2e_row7_col7\" class=\"data row7 col7\" >4.000000</td>\n",
       "      <td id=\"T_c6b2e_row7_col8\" class=\"data row7 col8\" >7.000000</td>\n",
       "      <td id=\"T_c6b2e_row7_col9\" class=\"data row7 col9\" >7.000000</td>\n",
       "    </tr>\n",
       "    <tr>\n",
       "      <th id=\"T_c6b2e_level0_row8\" class=\"row_heading level0 row8\" >color_numeric</th>\n",
       "      <td id=\"T_c6b2e_row8_col0\" class=\"data row8 col0\" >53940.000000</td>\n",
       "      <td id=\"T_c6b2e_row8_col1\" class=\"data row8 col1\" >3.405803</td>\n",
       "      <td id=\"T_c6b2e_row8_col2\" class=\"data row8 col2\" >1.701105</td>\n",
       "      <td id=\"T_c6b2e_row8_col3\" class=\"data row8 col3\" >0.000000</td>\n",
       "      <td id=\"T_c6b2e_row8_col4\" class=\"data row8 col4\" >0.000000</td>\n",
       "      <td id=\"T_c6b2e_row8_col5\" class=\"data row8 col5\" >2.000000</td>\n",
       "      <td id=\"T_c6b2e_row8_col6\" class=\"data row8 col6\" >3.000000</td>\n",
       "      <td id=\"T_c6b2e_row8_col7\" class=\"data row8 col7\" >5.000000</td>\n",
       "      <td id=\"T_c6b2e_row8_col8\" class=\"data row8 col8\" >6.000000</td>\n",
       "      <td id=\"T_c6b2e_row8_col9\" class=\"data row8 col9\" >6.000000</td>\n",
       "    </tr>\n",
       "  </tbody>\n",
       "</table>\n"
      ],
      "text/plain": [
       "<pandas.io.formats.style.Styler at 0x1f088acb250>"
      ]
     },
     "execution_count": 57,
     "metadata": {},
     "output_type": "execute_result"
    }
   ],
   "source": [
    "#your code here\n",
    "\n",
    "\n",
    "#your code here\n",
    "# Afficher plus de décimales\n",
    "pd.set_option('display.float_format', '{:.2f}'.format)\n",
    "\n",
    "# Ajouter des percentiles, transposer et styliser\n",
    "desc = diamonds.describe(percentiles=[.01, .25, .5, .75, .99]).T\n",
    "\n",
    "# Affichage joli avec un gradient de couleur\n",
    "desc.style.background_gradient(cmap='YlGnBu')\n",
    "\n"
   ]
  },
  {
   "cell_type": "code",
   "execution_count": 33,
   "metadata": {},
   "outputs": [],
   "source": [
    "#your comments here"
   ]
  },
  {
   "cell_type": "markdown",
   "metadata": {},
   "source": [
    "To manage these outliers, we are going to filter our DataFrame, we're going to take all the values that have a price higher than the 75th percentile.\n",
    "\n",
    "**Look for that quantile and filter the dataframe to clearly see the outliers. What do you think?**"
   ]
  },
  {
   "cell_type": "code",
   "execution_count": null,
   "metadata": {},
   "outputs": [],
   "source": [
    "#your code here\n",
    "\n",
    "\n",
    "# #your code here\n",
    "\n",
    "# #Calculer le 75e centile du prix\n",
    "\n",
    "# q75_price = diamonds['price'].quantile(0.75)\n",
    "# print(f\"75ᵉ centile du prix : {q75_price:.2f} USD\")\n",
    "\n",
    "# # Filtrer les diamants dont le prix est supérieur au 75ᵉ centile\n",
    "# diamonds_outliers = diamonds[diamonds['price'] > q75_price]\n",
    "\n",
    "# # Vérifier le résultat\n",
    "# print(f\"Nombre de diamants au-dessus du 75ᵉ centile : {diamonds_outliers.shape[0]}\")\n",
    "\n",
    "# diamonds_outliers[['price']].describe()\n",
    "# #diamonds_outliers.head()\n",
    "\n"
   ]
  },
  {
   "cell_type": "markdown",
   "metadata": {},
   "source": [
    "Our dataset is really big and the outliers are really far apart from the rest of the values. To see this more clearly we will use a boxplot, which plots the median, 25th and 75th quartile, the maximum and minimum, as well as any outliers."
   ]
  },
  {
   "cell_type": "code",
   "execution_count": 58,
   "metadata": {},
   "outputs": [
    {
     "ename": "AttributeError",
     "evalue": "'DataFrame' object has no attribute 'y'",
     "output_type": "error",
     "traceback": [
      "\u001b[1;31m---------------------------------------------------------------------------\u001b[0m",
      "\u001b[1;31mAttributeError\u001b[0m                            Traceback (most recent call last)",
      "\u001b[1;32m~\\AppData\\Local\\Temp\\ipykernel_4628\\2174211853.py\u001b[0m in \u001b[0;36m?\u001b[1;34m()\u001b[0m\n\u001b[0;32m      1\u001b[0m \u001b[1;31m#Run this code\u001b[0m\u001b[1;33m\u001b[0m\u001b[1;33m\u001b[0m\u001b[0m\n\u001b[0;32m      2\u001b[0m \u001b[0mfig\u001b[0m\u001b[1;33m,\u001b[0m \u001b[0max\u001b[0m \u001b[1;33m=\u001b[0m \u001b[0mplt\u001b[0m\u001b[1;33m.\u001b[0m\u001b[0msubplots\u001b[0m\u001b[1;33m(\u001b[0m\u001b[1;36m1\u001b[0m\u001b[1;33m,\u001b[0m\u001b[1;36m2\u001b[0m\u001b[1;33m,\u001b[0m \u001b[0mfigsize\u001b[0m\u001b[1;33m=\u001b[0m\u001b[1;33m(\u001b[0m\u001b[1;36m10\u001b[0m\u001b[1;33m,\u001b[0m \u001b[1;36m5\u001b[0m\u001b[1;33m)\u001b[0m\u001b[1;33m)\u001b[0m\u001b[1;33m\u001b[0m\u001b[1;33m\u001b[0m\u001b[0m\n\u001b[1;32m----> 3\u001b[1;33m \u001b[0msns\u001b[0m\u001b[1;33m.\u001b[0m\u001b[0mboxplot\u001b[0m\u001b[1;33m(\u001b[0m\u001b[0my\u001b[0m\u001b[1;33m=\u001b[0m\u001b[0mcolor2\u001b[0m\u001b[1;33m.\u001b[0m\u001b[0my\u001b[0m\u001b[1;33m,\u001b[0m \u001b[0max\u001b[0m\u001b[1;33m=\u001b[0m\u001b[0max\u001b[0m\u001b[1;33m[\u001b[0m\u001b[1;36m0\u001b[0m\u001b[1;33m]\u001b[0m\u001b[1;33m)\u001b[0m\u001b[1;33m\u001b[0m\u001b[1;33m\u001b[0m\u001b[0m\n\u001b[0m\u001b[0;32m      4\u001b[0m \u001b[0msns\u001b[0m\u001b[1;33m.\u001b[0m\u001b[0mboxplot\u001b[0m\u001b[1;33m(\u001b[0m\u001b[0my\u001b[0m\u001b[1;33m=\u001b[0m\u001b[0mcolor2\u001b[0m\u001b[1;33m.\u001b[0m\u001b[0mz\u001b[0m\u001b[1;33m,\u001b[0m \u001b[0max\u001b[0m\u001b[1;33m=\u001b[0m\u001b[0max\u001b[0m\u001b[1;33m[\u001b[0m\u001b[1;36m1\u001b[0m\u001b[1;33m]\u001b[0m\u001b[1;33m)\u001b[0m\u001b[1;33m\u001b[0m\u001b[1;33m\u001b[0m\u001b[0m\n\u001b[0;32m      5\u001b[0m \u001b[0mplt\u001b[0m\u001b[1;33m.\u001b[0m\u001b[0msubplots_adjust\u001b[0m\u001b[1;33m(\u001b[0m\u001b[0mwspace\u001b[0m\u001b[1;33m=\u001b[0m\u001b[1;36m0.5\u001b[0m\u001b[1;33m)\u001b[0m\u001b[1;33m\u001b[0m\u001b[1;33m\u001b[0m\u001b[0m\n",
      "\u001b[1;32mc:\\Users\\Utilisateur\\anaconda3\\Lib\\site-packages\\pandas\\core\\generic.py\u001b[0m in \u001b[0;36m?\u001b[1;34m(self, name)\u001b[0m\n\u001b[0;32m   6295\u001b[0m             \u001b[1;32mand\u001b[0m \u001b[0mname\u001b[0m \u001b[1;32mnot\u001b[0m \u001b[1;32min\u001b[0m \u001b[0mself\u001b[0m\u001b[1;33m.\u001b[0m\u001b[0m_accessors\u001b[0m\u001b[1;33m\u001b[0m\u001b[1;33m\u001b[0m\u001b[0m\n\u001b[0;32m   6296\u001b[0m             \u001b[1;32mand\u001b[0m \u001b[0mself\u001b[0m\u001b[1;33m.\u001b[0m\u001b[0m_info_axis\u001b[0m\u001b[1;33m.\u001b[0m\u001b[0m_can_hold_identifiers_and_holds_name\u001b[0m\u001b[1;33m(\u001b[0m\u001b[0mname\u001b[0m\u001b[1;33m)\u001b[0m\u001b[1;33m\u001b[0m\u001b[1;33m\u001b[0m\u001b[0m\n\u001b[0;32m   6297\u001b[0m         \u001b[1;33m)\u001b[0m\u001b[1;33m:\u001b[0m\u001b[1;33m\u001b[0m\u001b[1;33m\u001b[0m\u001b[0m\n\u001b[0;32m   6298\u001b[0m             \u001b[1;32mreturn\u001b[0m \u001b[0mself\u001b[0m\u001b[1;33m[\u001b[0m\u001b[0mname\u001b[0m\u001b[1;33m]\u001b[0m\u001b[1;33m\u001b[0m\u001b[1;33m\u001b[0m\u001b[0m\n\u001b[1;32m-> 6299\u001b[1;33m         \u001b[1;32mreturn\u001b[0m \u001b[0mobject\u001b[0m\u001b[1;33m.\u001b[0m\u001b[0m__getattribute__\u001b[0m\u001b[1;33m(\u001b[0m\u001b[0mself\u001b[0m\u001b[1;33m,\u001b[0m \u001b[0mname\u001b[0m\u001b[1;33m)\u001b[0m\u001b[1;33m\u001b[0m\u001b[1;33m\u001b[0m\u001b[0m\n\u001b[0m",
      "\u001b[1;31mAttributeError\u001b[0m: 'DataFrame' object has no attribute 'y'"
     ]
    },
    {
     "data": {
      "image/png": "[encoded data removed]",
      "text/plain": [
       "<Figure size 1000x500 with 2 Axes>"
      ]
     },
     "metadata": {},
     "output_type": "display_data"
    }
   ],
   "source": [
    "#Run this code\n",
    "fig, ax = plt.subplots(1,2, figsize=(10, 5))\n",
    "sns.boxplot(y=color2.y, ax=ax[0])\n",
    "sns.boxplot(y=color2.z, ax=ax[1])\n",
    "plt.subplots_adjust(wspace=0.5)"
   ]
  },
  {
   "cell_type": "markdown",
   "metadata": {},
   "source": [
    "Now we can see that all the values are within an acceptable range, but we have 2 big outliers in y and 1 in z. Now we know that our max values for y should be around 10 and the values for z should be around 6, so let's filter our dataset to find values higher than 10 in it.\n"
   ]
  },
  {
   "cell_type": "code",
   "execution_count": null,
   "metadata": {},
   "outputs": [
    {
     "data": {
      "text/html": [
       "<div>\n",
       "<style scoped>\n",
       "    .dataframe tbody tr th:only-of-type {\n",
       "        vertical-align: middle;\n",
       "    }\n",
       "\n",
       "    .dataframe tbody tr th {\n",
       "        vertical-align: top;\n",
       "    }\n",
       "\n",
       "    .dataframe thead th {\n",
       "        text-align: right;\n",
       "    }\n",
       "</style>\n",
       "<table border=\"1\" class=\"dataframe\">\n",
       "  <thead>\n",
       "    <tr style=\"text-align: right;\">\n",
       "      <th></th>\n",
       "      <th>carat</th>\n",
       "      <th>cut</th>\n",
       "      <th>color</th>\n",
       "      <th>clarity</th>\n",
       "      <th>depth</th>\n",
       "      <th>table</th>\n",
       "      <th>price</th>\n",
       "      <th>x</th>\n",
       "      <th>y</th>\n",
       "      <th>z</th>\n",
       "    </tr>\n",
       "  </thead>\n",
       "  <tbody>\n",
       "    <tr>\n",
       "      <th>48410</th>\n",
       "      <td>0.51</td>\n",
       "      <td>Very Good</td>\n",
       "      <td>5.0</td>\n",
       "      <td>4.0</td>\n",
       "      <td>61.8</td>\n",
       "      <td>54.7</td>\n",
       "      <td>1970.0</td>\n",
       "      <td>5.12</td>\n",
       "      <td>5.15</td>\n",
       "      <td>31.8</td>\n",
       "    </tr>\n",
       "  </tbody>\n",
       "</table>\n",
       "</div>"
      ],
      "text/plain": [
       "       carat        cut  color  clarity  depth  table   price     x     y  \\\n",
       "48410   0.51  Very Good    5.0      4.0   61.8   54.7  1970.0  5.12  5.15   \n",
       "\n",
       "          z  \n",
       "48410  31.8  "
      ]
     },
     "execution_count": 39,
     "metadata": {},
     "output_type": "execute_result"
    }
   ],
   "source": [
    "#your code here\n",
    "#your code here\n",
    "# #  Filtrer les valeurs de y supérieures à 10 mm\n",
    "# outliers_y = diamonds[diamonds['y'] > 10]\n",
    "# print(f\"Diamants avec y > 10 mm : {outliers_y.shape[0]}\")\n",
    "# print(outliers_y[['x', 'y', 'z']])\n",
    "\n",
    "# #  Filtrer les valeurs de z supérieures à 6 mm\n",
    "# outliers_z = diamonds[diamonds['z'] > 6]\n",
    "# print(f\"\\nDiamants avec z > 6 mm : {outliers_z.shape[0]}\")\n",
    "# print(outliers_z[['x', 'y', 'z']])"
   ]
  },
  {
   "cell_type": "markdown",
   "metadata": {},
   "source": [
    "Now that we have found the outlier, let's use the function we defined earlier to correct this value. First, we need to change the value to 0 (because that's how we defined the function before) and then we will apply it.\n",
    "\n",
    "**Apply `calculate_z` for the row with the outlier**"
   ]
  },
  {
   "cell_type": "code",
   "execution_count": null,
   "metadata": {},
   "outputs": [],
   "source": [
    "#your code here\n",
    "#your code here\n",
    "# # Exemple : on prend le premier index correspondant\n",
    "# index_outlier_z = diamonds[diamonds['z'] > 6].index[0]\n",
    "\n",
    "# # 1 Remplacer z par 0 pour cette ligne\n",
    "# diamonds.loc[index_outlier_z, 'z'] = 0\n",
    "\n",
    "# # 2 Appliquer calculate_z uniquement sur cette ligne\n",
    "# new_z = calculate_z(diamonds.loc[index_outlier_z])\n",
    "\n",
    "# # Mettre à jour la valeur calculée\n",
    "# diamonds.loc[index_outlier_z, 'z'] = new_z\n",
    "\n",
    "# # Vérifier le résultat\n",
    "# print(diamonds.loc[index_outlier_z, ['x', 'y', 'depth', 'z']])"
   ]
  },
  {
   "cell_type": "markdown",
   "metadata": {},
   "source": [
    "Let's check if we actually corrected the outlier."
   ]
  },
  {
   "cell_type": "code",
   "execution_count": null,
   "metadata": {},
   "outputs": [
    {
     "data": {
      "text/plain": [
       "carat           0.51\n",
       "cut        Very Good\n",
       "color              5\n",
       "clarity            4\n",
       "depth           61.8\n",
       "table           54.7\n",
       "price           1970\n",
       "x               5.12\n",
       "y               5.15\n",
       "z               3.17\n",
       "Name: 48410, dtype: object"
      ]
     },
     "execution_count": 42,
     "metadata": {},
     "output_type": "execute_result"
    }
   ],
   "source": [
    "\n",
    "\n",
    "diamonds.loc[48410]\n",
    "\n"
   ]
  },
  {
   "cell_type": "markdown",
   "metadata": {},
   "source": [
    "Cool! Now let's validate our new `z`. We will check if we obtain the same value of depth using our validate function. If the formula applies, this means could approximate the real value of `z`.\n",
    "\n",
    "**Apply `validate_z` to the row used earlier**"
   ]
  },
  {
   "cell_type": "code",
   "execution_count": null,
   "metadata": {},
   "outputs": [],
   "source": [
    "#your code here\n",
    "#your code here\n",
    "# # 👉 Assurer que ta fonction existe :\n",
    "# def calculate_z(row):\n",
    "#     return row['depth'] * (row['x'] + row['y']) / 2\n",
    "\n",
    "# #  Identifier toutes les lignes où z est aberrant (z > 6)\n",
    "# mask_aberrant_z = diamonds['z'] > 6\n",
    "\n",
    "# #  Remplacer ces valeurs par 0\n",
    "# diamonds.loc[mask_aberrant_z, 'z'] = 0\n",
    "\n",
    "# #  Recalculer z en appliquant calculate_z uniquement sur ces lignes\n",
    "# diamonds.loc[mask_aberrant_z, 'z'] = diamonds.loc[mask_aberrant_z].apply(calculate_z, axis=1)\n",
    "\n",
    "# #  Vérifier le résultat\n",
    "# print(diamonds.loc[mask_aberrant_z, ['x', 'y', 'depth', 'z']])"
   ]
  },
  {
   "cell_type": "markdown",
   "metadata": {},
   "source": [
    "Now let's do the same for `y`. First, let's filter the DataFrame to find the outliers. We said that the maximum values should be around 10, so let's check what are the values above 10.\n",
    "\n",
    "**Check the values greater than 10 in the `y` column** "
   ]
  },
  {
   "cell_type": "code",
   "execution_count": 48,
   "metadata": {},
   "outputs": [],
   "source": [
    "#your code here"
   ]
  },
  {
   "cell_type": "markdown",
   "metadata": {},
   "source": [
    "We can clearly see that the 31.8 in row 49189 is an outlier for the y value. Also, we can see that the 58.9 value for `y` in row 24067 is actually its depth, so it was a mistake when they introduced the data. Let's create a function to fix these outliers.\n",
    "\n",
    "**Create a function named `calculate_y` to calculate `y` using `z` and `x` the same way you did above**"
   ]
  },
  {
   "cell_type": "code",
   "execution_count": 50,
   "metadata": {},
   "outputs": [],
   "source": [
    "#your code here"
   ]
  },
  {
   "cell_type": "markdown",
   "metadata": {},
   "source": [
    "We will check the rows that had an outlier in `y`, to check that the values were changed.\n",
    "\n",
    "**Check those rows (also validating with your function) and comment what you see**"
   ]
  },
  {
   "cell_type": "markdown",
   "metadata": {},
   "source": [
    "Now that we have corrected or dropped all of our outliers, lets plot another box plot to double check."
   ]
  },
  {
   "cell_type": "code",
   "execution_count": null,
   "metadata": {},
   "outputs": [
    {
     "ename": "AttributeError",
     "evalue": "'DataFrame' object has no attribute 'y'",
     "output_type": "error",
     "traceback": [
      "\u001b[1;31m---------------------------------------------------------------------------\u001b[0m",
      "\u001b[1;31mAttributeError\u001b[0m                            Traceback (most recent call last)",
      "\u001b[1;32m~\\AppData\\Local\\Temp\\ipykernel_4628\\2174211853.py\u001b[0m in \u001b[0;36m?\u001b[1;34m()\u001b[0m\n\u001b[0;32m      1\u001b[0m \u001b[1;31m#Run this code\u001b[0m\u001b[1;33m\u001b[0m\u001b[1;33m\u001b[0m\u001b[0m\n\u001b[0;32m      2\u001b[0m \u001b[0mfig\u001b[0m\u001b[1;33m,\u001b[0m \u001b[0max\u001b[0m \u001b[1;33m=\u001b[0m \u001b[0mplt\u001b[0m\u001b[1;33m.\u001b[0m\u001b[0msubplots\u001b[0m\u001b[1;33m(\u001b[0m\u001b[1;36m1\u001b[0m\u001b[1;33m,\u001b[0m\u001b[1;36m2\u001b[0m\u001b[1;33m,\u001b[0m \u001b[0mfigsize\u001b[0m\u001b[1;33m=\u001b[0m\u001b[1;33m(\u001b[0m\u001b[1;36m10\u001b[0m\u001b[1;33m,\u001b[0m \u001b[1;36m5\u001b[0m\u001b[1;33m)\u001b[0m\u001b[1;33m)\u001b[0m\u001b[1;33m\u001b[0m\u001b[1;33m\u001b[0m\u001b[0m\n\u001b[1;32m----> 3\u001b[1;33m \u001b[0msns\u001b[0m\u001b[1;33m.\u001b[0m\u001b[0mboxplot\u001b[0m\u001b[1;33m(\u001b[0m\u001b[0my\u001b[0m\u001b[1;33m=\u001b[0m\u001b[0mcolor2\u001b[0m\u001b[1;33m.\u001b[0m\u001b[0my\u001b[0m\u001b[1;33m,\u001b[0m \u001b[0max\u001b[0m\u001b[1;33m=\u001b[0m\u001b[0max\u001b[0m\u001b[1;33m[\u001b[0m\u001b[1;36m0\u001b[0m\u001b[1;33m]\u001b[0m\u001b[1;33m)\u001b[0m\u001b[1;33m\u001b[0m\u001b[1;33m\u001b[0m\u001b[0m\n\u001b[0m\u001b[0;32m      4\u001b[0m \u001b[0msns\u001b[0m\u001b[1;33m.\u001b[0m\u001b[0mboxplot\u001b[0m\u001b[1;33m(\u001b[0m\u001b[0my\u001b[0m\u001b[1;33m=\u001b[0m\u001b[0mcolor2\u001b[0m\u001b[1;33m.\u001b[0m\u001b[0mz\u001b[0m\u001b[1;33m,\u001b[0m \u001b[0max\u001b[0m\u001b[1;33m=\u001b[0m\u001b[0max\u001b[0m\u001b[1;33m[\u001b[0m\u001b[1;36m1\u001b[0m\u001b[1;33m]\u001b[0m\u001b[1;33m)\u001b[0m\u001b[1;33m\u001b[0m\u001b[1;33m\u001b[0m\u001b[0m\n\u001b[0;32m      5\u001b[0m \u001b[0mplt\u001b[0m\u001b[1;33m.\u001b[0m\u001b[0msubplots_adjust\u001b[0m\u001b[1;33m(\u001b[0m\u001b[0mwspace\u001b[0m\u001b[1;33m=\u001b[0m\u001b[1;36m0.5\u001b[0m\u001b[1;33m)\u001b[0m\u001b[1;33m\u001b[0m\u001b[1;33m\u001b[0m\u001b[0m\n",
      "\u001b[1;32mc:\\Users\\Utilisateur\\anaconda3\\Lib\\site-packages\\pandas\\core\\generic.py\u001b[0m in \u001b[0;36m?\u001b[1;34m(self, name)\u001b[0m\n\u001b[0;32m   6295\u001b[0m             \u001b[1;32mand\u001b[0m \u001b[0mname\u001b[0m \u001b[1;32mnot\u001b[0m \u001b[1;32min\u001b[0m \u001b[0mself\u001b[0m\u001b[1;33m.\u001b[0m\u001b[0m_accessors\u001b[0m\u001b[1;33m\u001b[0m\u001b[1;33m\u001b[0m\u001b[0m\n\u001b[0;32m   6296\u001b[0m             \u001b[1;32mand\u001b[0m \u001b[0mself\u001b[0m\u001b[1;33m.\u001b[0m\u001b[0m_info_axis\u001b[0m\u001b[1;33m.\u001b[0m\u001b[0m_can_hold_identifiers_and_holds_name\u001b[0m\u001b[1;33m(\u001b[0m\u001b[0mname\u001b[0m\u001b[1;33m)\u001b[0m\u001b[1;33m\u001b[0m\u001b[1;33m\u001b[0m\u001b[0m\n\u001b[0;32m   6297\u001b[0m         \u001b[1;33m)\u001b[0m\u001b[1;33m:\u001b[0m\u001b[1;33m\u001b[0m\u001b[1;33m\u001b[0m\u001b[0m\n\u001b[0;32m   6298\u001b[0m             \u001b[1;32mreturn\u001b[0m \u001b[0mself\u001b[0m\u001b[1;33m[\u001b[0m\u001b[0mname\u001b[0m\u001b[1;33m]\u001b[0m\u001b[1;33m\u001b[0m\u001b[1;33m\u001b[0m\u001b[0m\n\u001b[1;32m-> 6299\u001b[1;33m         \u001b[1;32mreturn\u001b[0m \u001b[0mobject\u001b[0m\u001b[1;33m.\u001b[0m\u001b[0m__getattribute__\u001b[0m\u001b[1;33m(\u001b[0m\u001b[0mself\u001b[0m\u001b[1;33m,\u001b[0m \u001b[0mname\u001b[0m\u001b[1;33m)\u001b[0m\u001b[1;33m\u001b[0m\u001b[1;33m\u001b[0m\u001b[0m\n\u001b[0m",
      "\u001b[1;31mAttributeError\u001b[0m: 'DataFrame' object has no attribute 'y'"
     ]
    },
    {
     "data": {
      "image/png": "[encoded data removed]",
      "text/plain": [
       "<Figure size 1000x500 with 2 Axes>"
      ]
     },
     "metadata": {},
     "output_type": "display_data"
    }
   ],
   "source": [
    "#Run this code\n",
    "fig, ax = plt.subplots(1,2, figsize=(10, 5))\n",
    "sns.boxplot(y=diamonds.y, ax=ax[0])\n",
    "sns.boxplot(y=diamonds.z, ax=ax[1])\n",
    "plt.subplots_adjust(wspace=0.5)"
   ]
  },
  {
   "cell_type": "markdown",
   "metadata": {},
   "source": [
    "**What do you think? Are these values more reasonable?**\n"
   ]
  },
  {
   "cell_type": "code",
   "execution_count": 61,
   "metadata": {},
   "outputs": [],
   "source": [
    "#your thoughts here"
   ]
  },
  {
   "cell_type": "markdown",
   "metadata": {},
   "source": [
    "**Once you are happy with your cleaning, save the cleaned data and continue to csv. Your new csv should be named ``diamonds_clean``**"
   ]
  },
  {
   "cell_type": "code",
   "execution_count": 62,
   "metadata": {},
   "outputs": [],
   "source": [
    "#your code here"
   ]
  }
 ],
 "metadata": {
  "kernelspec": {
   "display_name": "base",
   "language": "python",
   "name": "python3"
  },
  "language_info": {
   "codemirror_mode": {
    "name": "ipython",
    "version": 3
   },
   "file_extension": ".py",
   "mimetype": "text/x-python",
   "name": "python",
   "nbconvert_exporter": "python",
   "pygments_lexer": "ipython3",
   "version": "3.13.5"
  }
 },
 "nbformat": 4,
 "nbformat_minor": 2
}
