{
 "cells": [
  {
   "cell_type": "markdown",
   "metadata": {},
   "source": [
    "# Intrduction to NumPy\n",
    "\n",
    "\n",
    "#### 1. Importer NumPy sous le nom np."
   ]
  },
  {
   "cell_type": "code",
   "execution_count": 4,
   "metadata": {},
   "outputs": [],
   "source": [
    "# your code here\n",
    "import numpy as np"
   ]
  },
  {
   "cell_type": "markdown",
   "metadata": {},
   "source": [
    "#### 2. Printer votre version NumPy."
   ]
  },
  {
   "cell_type": "code",
   "execution_count": 5,
   "metadata": {},
   "outputs": [
    {
     "name": "stdout",
     "output_type": "stream",
     "text": [
      "<module 'numpy' from 'c:\\\\Users\\\\Utilisateur\\\\anaconda3\\\\Lib\\\\site-packages\\\\numpy\\\\__init__.py'>\n"
     ]
    }
   ],
   "source": [
    "# your code here\n",
    "print(np)"
   ]
  },
  {
   "cell_type": "markdown",
   "metadata": {},
   "source": [
    "#### 3. Generer un 2x3x5 3-dimensional array avec des valeurs random. Assigner la array à la variable *a*.\n",
    "**Challenge**: il y a au moins 3  façons faciles qui utilisent  numpy pour generer un random array. "
   ]
  },
  {
   "cell_type": "code",
   "execution_count": 9,
   "metadata": {},
   "outputs": [
    {
     "name": "stdout",
     "output_type": "stream",
     "text": [
      "[[[0.90400872 0.64129008 0.46744958 0.11895746 0.2829478 ]\n",
      "  [0.5930189  0.79127073 0.92268458 0.47462179 0.96732611]\n",
      "  [0.4274263  0.8877803  0.79903806 0.72649689 0.32786133]]\n",
      "\n",
      " [[0.84768358 0.38496574 0.85596432 0.04698779 0.69321996]\n",
      "  [0.36815281 0.79720826 0.39867394 0.54064583 0.284282  ]\n",
      "  [0.78225243 0.7136832  0.19782284 0.80861787 0.88818854]]]\n"
     ]
    }
   ],
   "source": [
    "# Method 1\n",
    "a = np.random.random((2, 3, 5))\n",
    "print(a)"
   ]
  },
  {
   "cell_type": "code",
   "execution_count": 10,
   "metadata": {},
   "outputs": [
    {
     "name": "stdout",
     "output_type": "stream",
     "text": [
      "[[[0.5982896  0.74576264 0.5170938  0.47120517 0.85800559]\n",
      "  [0.67010264 0.37571403 0.27322238 0.29890187 0.5430608 ]\n",
      "  [0.51568379 0.82278423 0.54692578 0.44352737 0.43640846]]\n",
      "\n",
      " [[0.27179299 0.28719826 0.89057667 0.07497184 0.99882592]\n",
      "  [0.41527462 0.26057459 0.50499039 0.0085414  0.45777213]\n",
      "  [0.63320475 0.02462272 0.82050788 0.02848087 0.9187549 ]]]\n"
     ]
    }
   ],
   "source": [
    "# Method 2\n",
    "a = np.random.rand(2,3,5)\n",
    "print(a)"
   ]
  },
  {
   "cell_type": "code",
   "execution_count": 16,
   "metadata": {},
   "outputs": [
    {
     "name": "stdout",
     "output_type": "stream",
     "text": [
      "[[[ 9 19  5 12  5]\n",
      "  [ 0  0  3  1  1]\n",
      "  [ 5  8 19  0 19]]\n",
      "\n",
      " [[ 2  7  0 12  8]\n",
      "  [ 8  6 12  1 13]\n",
      "  [17  5  3  3 15]]]\n"
     ]
    }
   ],
   "source": [
    "# Method 3\n",
    "a = np.random.randint(0, 20,size=(2,3,5))\n",
    "print(a)"
   ]
  },
  {
   "cell_type": "markdown",
   "metadata": {},
   "source": [
    "#### 4. Print *a*.\n"
   ]
  },
  {
   "cell_type": "code",
   "execution_count": 19,
   "metadata": {},
   "outputs": [
    {
     "name": "stdout",
     "output_type": "stream",
     "text": [
      "[[[ 9 19  5 12  5]\n",
      "  [ 0  0  3  1  1]\n",
      "  [ 5  8 19  0 19]]\n",
      "\n",
      " [[ 2  7  0 12  8]\n",
      "  [ 8  6 12  1 13]\n",
      "  [17  5  3  3 15]]]\n"
     ]
    }
   ],
   "source": [
    "# your code here\n",
    "print(a)"
   ]
  },
  {
   "cell_type": "markdown",
   "metadata": {},
   "source": [
    "#### 5. Créer un 5x2x3 3-dimensional array avec toutes les valeurs égales à 1. Assignez le array à la variable *b*."
   ]
  },
  {
   "cell_type": "code",
   "execution_count": null,
   "metadata": {},
   "outputs": [
    {
     "name": "stdout",
     "output_type": "stream",
     "text": [
      "[[[1 1 1]\n",
      "  [1 1 1]]\n",
      "\n",
      " [[1 1 1]\n",
      "  [1 1 1]]\n",
      "\n",
      " [[1 1 1]\n",
      "  [1 1 1]]\n",
      "\n",
      " [[1 1 1]\n",
      "  [1 1 1]]\n",
      "\n",
      " [[1 1 1]\n",
      "  [1 1 1]]]\n"
     ]
    }
   ],
   "source": [
    "# your code here\n",
    "b = np.full((5,2,3), fill_value=1)\n",
    "print(b)\n",
    "\n",
    "# b = np.ones(5,2,3)"
   ]
  },
  {
   "cell_type": "markdown",
   "metadata": {},
   "source": [
    "#### 6. Print *b*.\n"
   ]
  },
  {
   "cell_type": "code",
   "execution_count": 23,
   "metadata": {},
   "outputs": [
    {
     "name": "stdout",
     "output_type": "stream",
     "text": [
      "(5, 2, 3)\n"
     ]
    }
   ],
   "source": [
    "# your code here\n",
    "print(b.shape)"
   ]
  },
  {
   "cell_type": "markdown",
   "metadata": {},
   "source": [
    "#### 7. Est ce que *a* et *b* ont la même size? Comment le prouver prove avec un code Python ?"
   ]
  },
  {
   "cell_type": "code",
   "execution_count": 24,
   "metadata": {},
   "outputs": [
    {
     "name": "stdout",
     "output_type": "stream",
     "text": [
      "30\n",
      "30\n"
     ]
    }
   ],
   "source": [
    "# your code here\n",
    "print(a.size)\n",
    "print(b.size)\n"
   ]
  },
  {
   "cell_type": "markdown",
   "metadata": {},
   "source": [
    "#### 8. Est il possible d'additionner *a* and *b*? PQ ou PQ pas?\n"
   ]
  },
  {
   "cell_type": "code",
   "execution_count": 26,
   "metadata": {},
   "outputs": [],
   "source": [
    "# your answer here\n",
    "# uniquement si les arrays sont de même forme\n"
   ]
  },
  {
   "cell_type": "markdown",
   "metadata": {},
   "source": [
    "#### 9. Transposez *b* de telle sorte qu'il ait la même structure que *a* (i.e. devient un 2x3x5 array). Assignez le array transposé à la variable *c*."
   ]
  },
  {
   "cell_type": "code",
   "execution_count": 27,
   "metadata": {},
   "outputs": [
    {
     "name": "stdout",
     "output_type": "stream",
     "text": [
      "[[[1 1 1 1 1]\n",
      "  [1 1 1 1 1]\n",
      "  [1 1 1 1 1]]\n",
      "\n",
      " [[1 1 1 1 1]\n",
      "  [1 1 1 1 1]\n",
      "  [1 1 1 1 1]]]\n"
     ]
    }
   ],
   "source": [
    "# your code here\n",
    "c = b.reshape(2,3,5)\n",
    "print(c)"
   ]
  },
  {
   "cell_type": "markdown",
   "metadata": {},
   "source": [
    "#### 10. Essayez d'additionner *a* & *c*. Mnt ça devrait marcher. Assignez la somme (sum) à la variable *d*. Mais PQ ça marche maintenant?"
   ]
  },
  {
   "cell_type": "code",
   "execution_count": 28,
   "metadata": {},
   "outputs": [
    {
     "name": "stdout",
     "output_type": "stream",
     "text": [
      "[[[10 20  6 13  6]\n",
      "  [ 1  1  4  2  2]\n",
      "  [ 6  9 20  1 20]]\n",
      "\n",
      " [[ 3  8  1 13  9]\n",
      "  [ 9  7 13  2 14]\n",
      "  [18  6  4  4 16]]]\n"
     ]
    }
   ],
   "source": [
    "# your code/answer here\n",
    "d = a + c\n",
    "print(d)\n"
   ]
  },
  {
   "cell_type": "markdown",
   "metadata": {},
   "source": [
    "#### 11. Printez *a* and *d*. Remarquez la différence et la relation entre les deux arrays en termes de valeurs? Expliquez."
   ]
  },
  {
   "cell_type": "code",
   "execution_count": null,
   "metadata": {},
   "outputs": [
    {
     "name": "stdout",
     "output_type": "stream",
     "text": [
      "[[[ 9 19  5 12  5]\n",
      "  [ 0  0  3  1  1]\n",
      "  [ 5  8 19  0 19]]\n",
      "\n",
      " [[ 2  7  0 12  8]\n",
      "  [ 8  6 12  1 13]\n",
      "  [17  5  3  3 15]]]\n",
      "[[[10 20  6 13  6]\n",
      "  [ 1  1  4  2  2]\n",
      "  [ 6  9 20  1 20]]\n",
      "\n",
      " [[ 3  8  1 13  9]\n",
      "  [ 9  7 13  2 14]\n",
      "  [18  6  4  4 16]]]\n"
     ]
    }
   ],
   "source": [
    "# your code/answer here\n",
    "print(a)\n",
    "print(d)\n",
    "# suite à l'addition de a et c, tous les éléments de a ont été incrémenté de 1 car chaque valeur de c est égale à 1"
   ]
  },
  {
   "cell_type": "markdown",
   "metadata": {},
   "source": [
    "#### 12. Multipliez *a* et *c*. Assignez le résultats à *e*."
   ]
  },
  {
   "cell_type": "code",
   "execution_count": 31,
   "metadata": {},
   "outputs": [
    {
     "name": "stdout",
     "output_type": "stream",
     "text": [
      "[[[ 9 19  5 12  5]\n",
      "  [ 0  0  3  1  1]\n",
      "  [ 5  8 19  0 19]]\n",
      "\n",
      " [[ 2  7  0 12  8]\n",
      "  [ 8  6 12  1 13]\n",
      "  [17  5  3  3 15]]]\n"
     ]
    }
   ],
   "source": [
    "# your code here\n",
    "e = a * c\n",
    "print(e)"
   ]
  },
  {
   "cell_type": "markdown",
   "metadata": {},
   "source": [
    "#### 13. Est ce que *e* égales à *a*? PQ ou PQ pas ?\n"
   ]
  },
  {
   "cell_type": "code",
   "execution_count": null,
   "metadata": {},
   "outputs": [],
   "source": [
    "# your code/answer here\n",
    "# oui car les valeurs de c sont égales à 1"
   ]
  },
  {
   "cell_type": "markdown",
   "metadata": {},
   "source": [
    "#### 14. Identifiez le max, min, et la valeurs moyenne e, *d*. Assignez ces valeurs à la  variables *d_max*, *d_min* and *d_mean*."
   ]
  },
  {
   "cell_type": "code",
   "execution_count": 34,
   "metadata": {},
   "outputs": [
    {
     "name": "stdout",
     "output_type": "stream",
     "text": [
      "20\n",
      "1\n",
      "8.266666666666667\n"
     ]
    }
   ],
   "source": [
    "# your code here\n",
    "e_max = e.max()\n",
    "e_min = e.min()\n",
    "e_mean = e.mean()\n",
    "d_max = d.max()\n",
    "d_min = d.min()\n",
    "d_mean = d.mean()\n",
    "print(d_max)\n",
    "print(d_min)\n",
    "print(d_mean)\n"
   ]
  },
  {
   "cell_type": "markdown",
   "metadata": {},
   "source": [
    "#### 15. Maintenant on veut labelliser les valeurs en *d*. Premièrement, créez un array vide *f* avec la même shape (i.e. 2x3x5) que *d* utilisez `np.empty`.\n"
   ]
  },
  {
   "cell_type": "code",
   "execution_count": 36,
   "metadata": {},
   "outputs": [
    {
     "name": "stdout",
     "output_type": "stream",
     "text": [
      "[[[4.4e-323 9.4e-323 2.5e-323 5.9e-323 2.5e-323]\n",
      "  [0.0e+000 0.0e+000 1.5e-323 4.9e-324 4.9e-324]\n",
      "  [2.5e-323 4.0e-323 9.4e-323 0.0e+000 9.4e-323]]\n",
      "\n",
      " [[9.9e-324 3.5e-323 0.0e+000 5.9e-323 4.0e-323]\n",
      "  [4.0e-323 3.0e-323 5.9e-323 4.9e-324 6.4e-323]\n",
      "  [8.4e-323 2.5e-323 1.5e-323 1.5e-323 7.4e-323]]]\n"
     ]
    }
   ],
   "source": [
    "# your code here\n",
    "f = np.empty((2,3,5))\n",
    "print(f)"
   ]
  },
  {
   "cell_type": "markdown",
   "metadata": {},
   "source": [
    "#### 16. Remplissez les valeurs dans *f*.\n",
    "\n",
    "Pour chaque valeur dans *d* :  \n",
    "- Si elle est supérieure à *d_min* mais inférieure à *d_mean*, attribuez 25 à la valeur correspondante dans *f*.  \n",
    "- Si une valeur dans *d* est supérieure à *d_mean* mais inférieure à *d_max*, attribuez 75 à la valeur correspondante dans *f*.  \n",
    "- Si une valeur est égale à *d_mean*, attribuez 50 à la valeur correspondante dans *f*.  \n",
    "- Attribuez 0 à la (ou aux) valeur(s) correspondante(s) dans *f* pour *d_min* dans *d*.  \n",
    "- Attribuez 100 à la (ou aux) valeur(s) correspondante(s) dans *f* pour *d_max* dans *d*.\n",
    "\n",
    "À la fin, *f* ne doit contenir que les valeurs suivantes : 0, 25, 50, 75 et 100.\n",
    "\n",
    "**Remarque** : vous n’êtes pas obligé d’utiliser Numpy pour cette question.\n"
   ]
  },
  {
   "cell_type": "code",
   "execution_count": 38,
   "metadata": {},
   "outputs": [
    {
     "name": "stdout",
     "output_type": "stream",
     "text": [
      "[[[ 75 100  25  75  25]\n",
      "  [  0   0  25  25  25]\n",
      "  [ 25  75 100   0 100]]\n",
      "\n",
      " [[ 25  25   0  75  75]\n",
      "  [ 75  25  75  25  75]\n",
      "  [ 75  25  25  25  75]]]\n"
     ]
    }
   ],
   "source": [
    "# your code here\n",
    "conditions = [\n",
    "    (d>d_min) & (d<d_mean),\n",
    "    (d>d_mean) & (d<d_max),\n",
    "    (d==d_mean),\n",
    "    (d==d_min),\n",
    "    (d==d_max)]\n",
    "\n",
    "valeurs = [25, 75, 50, 0, 100]\n",
    "\n",
    "f = np.select(conditions, valeurs, default=d)\n",
    "\n",
    "# d = np.random.randint(0, 7, size=(2, 3, 5))\n",
    "\n",
    "# # Conditions\n",
    "# conditions = [\n",
    "#     (d > 1) & (d < 3),     # si 1 < d < 3 ➜ 10\n",
    "#     (d > 4) & (d < 6)      # si 4 < d < 6 ➜ 20\n",
    "# ]\n",
    "\n",
    "# # Valeurs à attribuer selon la condition\n",
    "# valeurs = [\n",
    "#     10,  # pour la 1ère condition\n",
    "#     20   # pour la 2ème condition\n",
    "# ]\n",
    "\n",
    "# # Appliquer les transformations\n",
    "# f = np.select(conditions, valeurs, default=d)  # sinon on garde la valeur d'origine\n",
    "\n",
    "print(f)"
   ]
  },
  {
   "cell_type": "markdown",
   "metadata": {},
   "source": [
    "#### 17. Printez *d* et *f*. Avez vous obtenu ce que vous expectiez expected *f*?\n",
    "Par exemple, if your *d* is:\n",
    "```python\n",
    "[[[1.85836099, 1.67064465, 1.62576044, 1.40243961, 1.88454931],\n",
    "[1.75354326, 1.69403643, 1.36729252, 1.61415071, 1.12104981],\n",
    "[1.72201435, 1.1862918 , 1.87078449, 1.7726778 , 1.88180042]],\n",
    "[[1.44747908, 1.31673383, 1.02000951, 1.52218947, 1.97066381],\n",
    "[1.79129243, 1.74983003, 1.96028037, 1.85166831, 1.65450881],\n",
    "[1.18068344, 1.9587381 , 1.00656599, 1.93402165, 1.73514584]]]\n",
    "```\n",
    "Your *f* should be:\n",
    "```python\n",
    "[[[ 75.,  75.,  75.,  25.,  75.],\n",
    "[ 75.,  75.,  25.,  25.,  25.],\n",
    "[ 75.,  25.,  75.,  75.,  75.]],\n",
    "[[ 25.,  25.,  25.,  25., 100.],\n",
    "[ 75.,  75.,  75.,  75.,  75.],\n",
    "[ 25.,  75.,   0.,  75.,  75.]]]\n",
    "```"
   ]
  },
  {
   "cell_type": "code",
   "execution_count": null,
   "metadata": {},
   "outputs": [],
   "source": [
    "# your code here"
   ]
  },
  {
   "cell_type": "markdown",
   "metadata": {},
   "source": [
    "#### 18. Question bonus : au lieu d’utiliser des nombres (c’est-à-dire 0, 25, 50, 75 et 100), utilisez des valeurs sous forme de chaînes de caractères (\"A\", \"B\", \"C\", \"D\" et \"E\") pour étiqueter les éléments du tableau. Pour l’exemple ci-dessus, le résultat attendu est :\n",
    "\n",
    "\n",
    "```python\n",
    "[[[ 'D',  'D',  'D',  'B',  'D'],\n",
    "[ 'D',  'D',  'B',  'B',  'B'],\n",
    "[ 'D',  'B',  'D',  'D',  'D']],\n",
    "[[ 'B',  'B',  'B',  'B',  'E'],\n",
    "[ 'D',  'D',  'D',  'D',  'D'],\n",
    "[ 'B',  'D',   'A',  'D', 'D']]]\n",
    "```\n",
    "**Note**: you don't have to use Numpy in this question."
   ]
  },
  {
   "cell_type": "code",
   "execution_count": null,
   "metadata": {},
   "outputs": [],
   "source": [
    "# your code here"
   ]
  }
 ],
 "metadata": {
  "kernelspec": {
   "display_name": "base",
   "language": "python",
   "name": "python3"
  },
  "language_info": {
   "codemirror_mode": {
    "name": "ipython",
    "version": 3
   },
   "file_extension": ".py",
   "mimetype": "text/x-python",
   "name": "python",
   "nbconvert_exporter": "python",
   "pygments_lexer": "ipython3",
   "version": "3.13.5"
  }
 },
 "nbformat": 4,
 "nbformat_minor": 2
}
